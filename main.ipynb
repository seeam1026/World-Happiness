{
 "cells": [
  {
   "cell_type": "code",
   "execution_count": 1,
   "metadata": {},
   "outputs": [],
   "source": [
    "import pandas as pd\n",
    "import numpy as np\n",
    "import matplotlib.pyplot as plt\n",
    "import seaborn as sns\n",
    "import plotly.graph_objects as go\n",
    "import plotly.express as px\n",
    "import plotly.io as pio\n",
    "pio.templates.default = \"plotly_dark\"\n",
    "import os"
   ]
  },
  {
   "cell_type": "code",
   "execution_count": 2,
   "metadata": {},
   "outputs": [
    {
     "data": {
      "text/html": [
       "<div>\n",
       "<style scoped>\n",
       "    .dataframe tbody tr th:only-of-type {\n",
       "        vertical-align: middle;\n",
       "    }\n",
       "\n",
       "    .dataframe tbody tr th {\n",
       "        vertical-align: top;\n",
       "    }\n",
       "\n",
       "    .dataframe thead th {\n",
       "        text-align: right;\n",
       "    }\n",
       "</style>\n",
       "<table border=\"1\" class=\"dataframe\">\n",
       "  <thead>\n",
       "    <tr style=\"text-align: right;\">\n",
       "      <th></th>\n",
       "      <th>Country</th>\n",
       "      <th>Region</th>\n",
       "      <th>Happiness Rank</th>\n",
       "      <th>Happiness Score</th>\n",
       "      <th>Lower Confidence Interval</th>\n",
       "      <th>Upper Confidence Interval</th>\n",
       "      <th>Economy (GDP per Capita)</th>\n",
       "      <th>Family</th>\n",
       "      <th>Health (Life Expectancy)</th>\n",
       "      <th>Freedom</th>\n",
       "      <th>Trust (Government Corruption)</th>\n",
       "      <th>Generosity</th>\n",
       "      <th>Dystopia Residual</th>\n",
       "    </tr>\n",
       "  </thead>\n",
       "  <tbody>\n",
       "    <tr>\n",
       "      <th>0</th>\n",
       "      <td>Denmark</td>\n",
       "      <td>Western Europe</td>\n",
       "      <td>1</td>\n",
       "      <td>7.526</td>\n",
       "      <td>7.460</td>\n",
       "      <td>7.592</td>\n",
       "      <td>1.44178</td>\n",
       "      <td>1.16374</td>\n",
       "      <td>0.79504</td>\n",
       "      <td>0.57941</td>\n",
       "      <td>0.44453</td>\n",
       "      <td>0.36171</td>\n",
       "      <td>2.73939</td>\n",
       "    </tr>\n",
       "    <tr>\n",
       "      <th>1</th>\n",
       "      <td>Switzerland</td>\n",
       "      <td>Western Europe</td>\n",
       "      <td>2</td>\n",
       "      <td>7.509</td>\n",
       "      <td>7.428</td>\n",
       "      <td>7.590</td>\n",
       "      <td>1.52733</td>\n",
       "      <td>1.14524</td>\n",
       "      <td>0.86303</td>\n",
       "      <td>0.58557</td>\n",
       "      <td>0.41203</td>\n",
       "      <td>0.28083</td>\n",
       "      <td>2.69463</td>\n",
       "    </tr>\n",
       "    <tr>\n",
       "      <th>2</th>\n",
       "      <td>Iceland</td>\n",
       "      <td>Western Europe</td>\n",
       "      <td>3</td>\n",
       "      <td>7.501</td>\n",
       "      <td>7.333</td>\n",
       "      <td>7.669</td>\n",
       "      <td>1.42666</td>\n",
       "      <td>1.18326</td>\n",
       "      <td>0.86733</td>\n",
       "      <td>0.56624</td>\n",
       "      <td>0.14975</td>\n",
       "      <td>0.47678</td>\n",
       "      <td>2.83137</td>\n",
       "    </tr>\n",
       "    <tr>\n",
       "      <th>3</th>\n",
       "      <td>Norway</td>\n",
       "      <td>Western Europe</td>\n",
       "      <td>4</td>\n",
       "      <td>7.498</td>\n",
       "      <td>7.421</td>\n",
       "      <td>7.575</td>\n",
       "      <td>1.57744</td>\n",
       "      <td>1.12690</td>\n",
       "      <td>0.79579</td>\n",
       "      <td>0.59609</td>\n",
       "      <td>0.35776</td>\n",
       "      <td>0.37895</td>\n",
       "      <td>2.66465</td>\n",
       "    </tr>\n",
       "    <tr>\n",
       "      <th>4</th>\n",
       "      <td>Finland</td>\n",
       "      <td>Western Europe</td>\n",
       "      <td>5</td>\n",
       "      <td>7.413</td>\n",
       "      <td>7.351</td>\n",
       "      <td>7.475</td>\n",
       "      <td>1.40598</td>\n",
       "      <td>1.13464</td>\n",
       "      <td>0.81091</td>\n",
       "      <td>0.57104</td>\n",
       "      <td>0.41004</td>\n",
       "      <td>0.25492</td>\n",
       "      <td>2.82596</td>\n",
       "    </tr>\n",
       "  </tbody>\n",
       "</table>\n",
       "</div>"
      ],
      "text/plain": [
       "       Country          Region  Happiness Rank  Happiness Score  \\\n",
       "0      Denmark  Western Europe               1            7.526   \n",
       "1  Switzerland  Western Europe               2            7.509   \n",
       "2      Iceland  Western Europe               3            7.501   \n",
       "3       Norway  Western Europe               4            7.498   \n",
       "4      Finland  Western Europe               5            7.413   \n",
       "\n",
       "   Lower Confidence Interval  Upper Confidence Interval  \\\n",
       "0                      7.460                      7.592   \n",
       "1                      7.428                      7.590   \n",
       "2                      7.333                      7.669   \n",
       "3                      7.421                      7.575   \n",
       "4                      7.351                      7.475   \n",
       "\n",
       "   Economy (GDP per Capita)   Family  Health (Life Expectancy)  Freedom  \\\n",
       "0                   1.44178  1.16374                   0.79504  0.57941   \n",
       "1                   1.52733  1.14524                   0.86303  0.58557   \n",
       "2                   1.42666  1.18326                   0.86733  0.56624   \n",
       "3                   1.57744  1.12690                   0.79579  0.59609   \n",
       "4                   1.40598  1.13464                   0.81091  0.57104   \n",
       "\n",
       "   Trust (Government Corruption)  Generosity  Dystopia Residual  \n",
       "0                        0.44453     0.36171            2.73939  \n",
       "1                        0.41203     0.28083            2.69463  \n",
       "2                        0.14975     0.47678            2.83137  \n",
       "3                        0.35776     0.37895            2.66465  \n",
       "4                        0.41004     0.25492            2.82596  "
      ]
     },
     "execution_count": 2,
     "metadata": {},
     "output_type": "execute_result"
    }
   ],
   "source": [
    "file_path = os.path.join(os.getcwd(), '2016.csv')\n",
    "df = pd.read_csv(file_path)\n",
    "df.head()"
   ]
  },
  {
   "cell_type": "markdown",
   "metadata": {},
   "source": [
    "Data cleaning"
   ]
  },
  {
   "cell_type": "code",
   "execution_count": 3,
   "metadata": {},
   "outputs": [
    {
     "data": {
      "text/plain": [
       "Country                           object\n",
       "Region                            object\n",
       "Happiness Rank                     int64\n",
       "Happiness Score                  float64\n",
       "Lower Confidence Interval        float64\n",
       "Upper Confidence Interval        float64\n",
       "Economy (GDP per Capita)         float64\n",
       "Family                           float64\n",
       "Health (Life Expectancy)         float64\n",
       "Freedom                          float64\n",
       "Trust (Government Corruption)    float64\n",
       "Generosity                       float64\n",
       "Dystopia Residual                float64\n",
       "dtype: object"
      ]
     },
     "execution_count": 3,
     "metadata": {},
     "output_type": "execute_result"
    }
   ],
   "source": [
    "df.dtypes"
   ]
  },
  {
   "cell_type": "code",
   "execution_count": 4,
   "metadata": {},
   "outputs": [
    {
     "data": {
      "text/html": [
       "<div>\n",
       "<style scoped>\n",
       "    .dataframe tbody tr th:only-of-type {\n",
       "        vertical-align: middle;\n",
       "    }\n",
       "\n",
       "    .dataframe tbody tr th {\n",
       "        vertical-align: top;\n",
       "    }\n",
       "\n",
       "    .dataframe thead th {\n",
       "        text-align: right;\n",
       "    }\n",
       "</style>\n",
       "<table border=\"1\" class=\"dataframe\">\n",
       "  <thead>\n",
       "    <tr style=\"text-align: right;\">\n",
       "      <th></th>\n",
       "      <th>Country</th>\n",
       "      <th>Region</th>\n",
       "      <th>Happiness Rank</th>\n",
       "      <th>Happiness Score</th>\n",
       "      <th>Lower Confidence Interval</th>\n",
       "      <th>Upper Confidence Interval</th>\n",
       "      <th>Economy (GDP per Capita)</th>\n",
       "      <th>Family</th>\n",
       "      <th>Health (Life Expectancy)</th>\n",
       "      <th>Freedom</th>\n",
       "      <th>Trust (Government Corruption)</th>\n",
       "      <th>Generosity</th>\n",
       "      <th>Dystopia Residual</th>\n",
       "    </tr>\n",
       "  </thead>\n",
       "  <tbody>\n",
       "    <tr>\n",
       "      <th>0</th>\n",
       "      <td>Denmark</td>\n",
       "      <td>Western Europe</td>\n",
       "      <td>1</td>\n",
       "      <td>7.526</td>\n",
       "      <td>7.460</td>\n",
       "      <td>7.592</td>\n",
       "      <td>1.44178</td>\n",
       "      <td>1.16374</td>\n",
       "      <td>0.79504</td>\n",
       "      <td>0.57941</td>\n",
       "      <td>0.44453</td>\n",
       "      <td>0.36171</td>\n",
       "      <td>2.73939</td>\n",
       "    </tr>\n",
       "    <tr>\n",
       "      <th>1</th>\n",
       "      <td>Switzerland</td>\n",
       "      <td>Western Europe</td>\n",
       "      <td>2</td>\n",
       "      <td>7.509</td>\n",
       "      <td>7.428</td>\n",
       "      <td>7.590</td>\n",
       "      <td>1.52733</td>\n",
       "      <td>1.14524</td>\n",
       "      <td>0.86303</td>\n",
       "      <td>0.58557</td>\n",
       "      <td>0.41203</td>\n",
       "      <td>0.28083</td>\n",
       "      <td>2.69463</td>\n",
       "    </tr>\n",
       "    <tr>\n",
       "      <th>2</th>\n",
       "      <td>Iceland</td>\n",
       "      <td>Western Europe</td>\n",
       "      <td>3</td>\n",
       "      <td>7.501</td>\n",
       "      <td>7.333</td>\n",
       "      <td>7.669</td>\n",
       "      <td>1.42666</td>\n",
       "      <td>1.18326</td>\n",
       "      <td>0.86733</td>\n",
       "      <td>0.56624</td>\n",
       "      <td>0.14975</td>\n",
       "      <td>0.47678</td>\n",
       "      <td>2.83137</td>\n",
       "    </tr>\n",
       "    <tr>\n",
       "      <th>3</th>\n",
       "      <td>Norway</td>\n",
       "      <td>Western Europe</td>\n",
       "      <td>4</td>\n",
       "      <td>7.498</td>\n",
       "      <td>7.421</td>\n",
       "      <td>7.575</td>\n",
       "      <td>1.57744</td>\n",
       "      <td>1.12690</td>\n",
       "      <td>0.79579</td>\n",
       "      <td>0.59609</td>\n",
       "      <td>0.35776</td>\n",
       "      <td>0.37895</td>\n",
       "      <td>2.66465</td>\n",
       "    </tr>\n",
       "    <tr>\n",
       "      <th>4</th>\n",
       "      <td>Finland</td>\n",
       "      <td>Western Europe</td>\n",
       "      <td>5</td>\n",
       "      <td>7.413</td>\n",
       "      <td>7.351</td>\n",
       "      <td>7.475</td>\n",
       "      <td>1.40598</td>\n",
       "      <td>1.13464</td>\n",
       "      <td>0.81091</td>\n",
       "      <td>0.57104</td>\n",
       "      <td>0.41004</td>\n",
       "      <td>0.25492</td>\n",
       "      <td>2.82596</td>\n",
       "    </tr>\n",
       "  </tbody>\n",
       "</table>\n",
       "</div>"
      ],
      "text/plain": [
       "       Country          Region  Happiness Rank  Happiness Score  \\\n",
       "0      Denmark  Western Europe               1            7.526   \n",
       "1  Switzerland  Western Europe               2            7.509   \n",
       "2      Iceland  Western Europe               3            7.501   \n",
       "3       Norway  Western Europe               4            7.498   \n",
       "4      Finland  Western Europe               5            7.413   \n",
       "\n",
       "   Lower Confidence Interval  Upper Confidence Interval  \\\n",
       "0                      7.460                      7.592   \n",
       "1                      7.428                      7.590   \n",
       "2                      7.333                      7.669   \n",
       "3                      7.421                      7.575   \n",
       "4                      7.351                      7.475   \n",
       "\n",
       "   Economy (GDP per Capita)   Family  Health (Life Expectancy)  Freedom  \\\n",
       "0                   1.44178  1.16374                   0.79504  0.57941   \n",
       "1                   1.52733  1.14524                   0.86303  0.58557   \n",
       "2                   1.42666  1.18326                   0.86733  0.56624   \n",
       "3                   1.57744  1.12690                   0.79579  0.59609   \n",
       "4                   1.40598  1.13464                   0.81091  0.57104   \n",
       "\n",
       "   Trust (Government Corruption)  Generosity  Dystopia Residual  \n",
       "0                        0.44453     0.36171            2.73939  \n",
       "1                        0.41203     0.28083            2.69463  \n",
       "2                        0.14975     0.47678            2.83137  \n",
       "3                        0.35776     0.37895            2.66465  \n",
       "4                        0.41004     0.25492            2.82596  "
      ]
     },
     "execution_count": 4,
     "metadata": {},
     "output_type": "execute_result"
    }
   ],
   "source": [
    "df = df.map(lambda x: x.strip() if isinstance(x, str) else x)\n",
    "df.head()"
   ]
  },
  {
   "cell_type": "code",
   "execution_count": 5,
   "metadata": {},
   "outputs": [],
   "source": [
    "df.replace(r'^\\s*$', np.nan, regex = True, inplace = True)"
   ]
  },
  {
   "cell_type": "code",
   "execution_count": 6,
   "metadata": {},
   "outputs": [
    {
     "data": {
      "text/plain": [
       "[]"
      ]
     },
     "execution_count": 6,
     "metadata": {},
     "output_type": "execute_result"
    }
   ],
   "source": [
    "missing_columns = df.columns[df.isnull().any()].tolist()\n",
    "missing_columns"
   ]
  },
  {
   "cell_type": "markdown",
   "metadata": {},
   "source": [
    "Perform exploratory data analysis:"
   ]
  },
  {
   "cell_type": "code",
   "execution_count": 7,
   "metadata": {},
   "outputs": [
    {
     "data": {
      "text/html": [
       "<div>\n",
       "<style scoped>\n",
       "    .dataframe tbody tr th:only-of-type {\n",
       "        vertical-align: middle;\n",
       "    }\n",
       "\n",
       "    .dataframe tbody tr th {\n",
       "        vertical-align: top;\n",
       "    }\n",
       "\n",
       "    .dataframe thead th {\n",
       "        text-align: right;\n",
       "    }\n",
       "</style>\n",
       "<table border=\"1\" class=\"dataframe\">\n",
       "  <thead>\n",
       "    <tr style=\"text-align: right;\">\n",
       "      <th></th>\n",
       "      <th>Country</th>\n",
       "      <th>Region</th>\n",
       "      <th>Happiness Rank</th>\n",
       "      <th>Happiness Score</th>\n",
       "      <th>Lower Confidence Interval</th>\n",
       "      <th>Upper Confidence Interval</th>\n",
       "      <th>Economy (GDP per Capita)</th>\n",
       "      <th>Family</th>\n",
       "      <th>Health (Life Expectancy)</th>\n",
       "      <th>Freedom</th>\n",
       "      <th>Trust (Government Corruption)</th>\n",
       "      <th>Generosity</th>\n",
       "      <th>Dystopia Residual</th>\n",
       "    </tr>\n",
       "  </thead>\n",
       "  <tbody>\n",
       "    <tr>\n",
       "      <th>35</th>\n",
       "      <td>Qatar</td>\n",
       "      <td>Middle East and Northern Africa</td>\n",
       "      <td>36</td>\n",
       "      <td>6.375</td>\n",
       "      <td>6.178</td>\n",
       "      <td>6.572</td>\n",
       "      <td>1.82427</td>\n",
       "      <td>0.87964</td>\n",
       "      <td>0.71723</td>\n",
       "      <td>0.56679</td>\n",
       "      <td>0.48049</td>\n",
       "      <td>0.32388</td>\n",
       "      <td>1.58224</td>\n",
       "    </tr>\n",
       "    <tr>\n",
       "      <th>19</th>\n",
       "      <td>Luxembourg</td>\n",
       "      <td>Western Europe</td>\n",
       "      <td>20</td>\n",
       "      <td>6.871</td>\n",
       "      <td>6.804</td>\n",
       "      <td>6.938</td>\n",
       "      <td>1.69752</td>\n",
       "      <td>1.03999</td>\n",
       "      <td>0.84542</td>\n",
       "      <td>0.54870</td>\n",
       "      <td>0.35329</td>\n",
       "      <td>0.27571</td>\n",
       "      <td>2.11055</td>\n",
       "    </tr>\n",
       "    <tr>\n",
       "      <th>21</th>\n",
       "      <td>Singapore</td>\n",
       "      <td>Southeastern Asia</td>\n",
       "      <td>22</td>\n",
       "      <td>6.739</td>\n",
       "      <td>6.674</td>\n",
       "      <td>6.804</td>\n",
       "      <td>1.64555</td>\n",
       "      <td>0.86758</td>\n",
       "      <td>0.94719</td>\n",
       "      <td>0.48770</td>\n",
       "      <td>0.46987</td>\n",
       "      <td>0.32706</td>\n",
       "      <td>1.99375</td>\n",
       "    </tr>\n",
       "    <tr>\n",
       "      <th>40</th>\n",
       "      <td>Kuwait</td>\n",
       "      <td>Middle East and Northern Africa</td>\n",
       "      <td>41</td>\n",
       "      <td>6.239</td>\n",
       "      <td>6.154</td>\n",
       "      <td>6.324</td>\n",
       "      <td>1.61714</td>\n",
       "      <td>0.87758</td>\n",
       "      <td>0.63569</td>\n",
       "      <td>0.43166</td>\n",
       "      <td>0.23669</td>\n",
       "      <td>0.15965</td>\n",
       "      <td>2.28085</td>\n",
       "    </tr>\n",
       "    <tr>\n",
       "      <th>3</th>\n",
       "      <td>Norway</td>\n",
       "      <td>Western Europe</td>\n",
       "      <td>4</td>\n",
       "      <td>7.498</td>\n",
       "      <td>7.421</td>\n",
       "      <td>7.575</td>\n",
       "      <td>1.57744</td>\n",
       "      <td>1.12690</td>\n",
       "      <td>0.79579</td>\n",
       "      <td>0.59609</td>\n",
       "      <td>0.35776</td>\n",
       "      <td>0.37895</td>\n",
       "      <td>2.66465</td>\n",
       "    </tr>\n",
       "    <tr>\n",
       "      <th>27</th>\n",
       "      <td>United Arab Emirates</td>\n",
       "      <td>Middle East and Northern Africa</td>\n",
       "      <td>28</td>\n",
       "      <td>6.573</td>\n",
       "      <td>6.494</td>\n",
       "      <td>6.652</td>\n",
       "      <td>1.57352</td>\n",
       "      <td>0.87114</td>\n",
       "      <td>0.72993</td>\n",
       "      <td>0.56215</td>\n",
       "      <td>0.35561</td>\n",
       "      <td>0.26591</td>\n",
       "      <td>2.21507</td>\n",
       "    </tr>\n",
       "    <tr>\n",
       "      <th>1</th>\n",
       "      <td>Switzerland</td>\n",
       "      <td>Western Europe</td>\n",
       "      <td>2</td>\n",
       "      <td>7.509</td>\n",
       "      <td>7.428</td>\n",
       "      <td>7.590</td>\n",
       "      <td>1.52733</td>\n",
       "      <td>1.14524</td>\n",
       "      <td>0.86303</td>\n",
       "      <td>0.58557</td>\n",
       "      <td>0.41203</td>\n",
       "      <td>0.28083</td>\n",
       "      <td>2.69463</td>\n",
       "    </tr>\n",
       "    <tr>\n",
       "      <th>74</th>\n",
       "      <td>Hong Kong</td>\n",
       "      <td>Eastern Asia</td>\n",
       "      <td>75</td>\n",
       "      <td>5.458</td>\n",
       "      <td>5.362</td>\n",
       "      <td>5.554</td>\n",
       "      <td>1.51070</td>\n",
       "      <td>0.87021</td>\n",
       "      <td>0.95277</td>\n",
       "      <td>0.48079</td>\n",
       "      <td>0.31647</td>\n",
       "      <td>0.40097</td>\n",
       "      <td>0.92614</td>\n",
       "    </tr>\n",
       "    <tr>\n",
       "      <th>12</th>\n",
       "      <td>United States</td>\n",
       "      <td>North America</td>\n",
       "      <td>13</td>\n",
       "      <td>7.104</td>\n",
       "      <td>7.020</td>\n",
       "      <td>7.188</td>\n",
       "      <td>1.50796</td>\n",
       "      <td>1.04782</td>\n",
       "      <td>0.77900</td>\n",
       "      <td>0.48163</td>\n",
       "      <td>0.14868</td>\n",
       "      <td>0.41077</td>\n",
       "      <td>2.72782</td>\n",
       "    </tr>\n",
       "    <tr>\n",
       "      <th>33</th>\n",
       "      <td>Saudi Arabia</td>\n",
       "      <td>Middle East and Northern Africa</td>\n",
       "      <td>34</td>\n",
       "      <td>6.379</td>\n",
       "      <td>6.287</td>\n",
       "      <td>6.471</td>\n",
       "      <td>1.48953</td>\n",
       "      <td>0.84829</td>\n",
       "      <td>0.59267</td>\n",
       "      <td>0.37904</td>\n",
       "      <td>0.30008</td>\n",
       "      <td>0.15457</td>\n",
       "      <td>2.61482</td>\n",
       "    </tr>\n",
       "  </tbody>\n",
       "</table>\n",
       "</div>"
      ],
      "text/plain": [
       "                 Country                           Region  Happiness Rank  \\\n",
       "35                 Qatar  Middle East and Northern Africa              36   \n",
       "19            Luxembourg                   Western Europe              20   \n",
       "21             Singapore                Southeastern Asia              22   \n",
       "40                Kuwait  Middle East and Northern Africa              41   \n",
       "3                 Norway                   Western Europe               4   \n",
       "27  United Arab Emirates  Middle East and Northern Africa              28   \n",
       "1            Switzerland                   Western Europe               2   \n",
       "74             Hong Kong                     Eastern Asia              75   \n",
       "12         United States                    North America              13   \n",
       "33          Saudi Arabia  Middle East and Northern Africa              34   \n",
       "\n",
       "    Happiness Score  Lower Confidence Interval  Upper Confidence Interval  \\\n",
       "35            6.375                      6.178                      6.572   \n",
       "19            6.871                      6.804                      6.938   \n",
       "21            6.739                      6.674                      6.804   \n",
       "40            6.239                      6.154                      6.324   \n",
       "3             7.498                      7.421                      7.575   \n",
       "27            6.573                      6.494                      6.652   \n",
       "1             7.509                      7.428                      7.590   \n",
       "74            5.458                      5.362                      5.554   \n",
       "12            7.104                      7.020                      7.188   \n",
       "33            6.379                      6.287                      6.471   \n",
       "\n",
       "    Economy (GDP per Capita)   Family  Health (Life Expectancy)  Freedom  \\\n",
       "35                   1.82427  0.87964                   0.71723  0.56679   \n",
       "19                   1.69752  1.03999                   0.84542  0.54870   \n",
       "21                   1.64555  0.86758                   0.94719  0.48770   \n",
       "40                   1.61714  0.87758                   0.63569  0.43166   \n",
       "3                    1.57744  1.12690                   0.79579  0.59609   \n",
       "27                   1.57352  0.87114                   0.72993  0.56215   \n",
       "1                    1.52733  1.14524                   0.86303  0.58557   \n",
       "74                   1.51070  0.87021                   0.95277  0.48079   \n",
       "12                   1.50796  1.04782                   0.77900  0.48163   \n",
       "33                   1.48953  0.84829                   0.59267  0.37904   \n",
       "\n",
       "    Trust (Government Corruption)  Generosity  Dystopia Residual  \n",
       "35                        0.48049     0.32388            1.58224  \n",
       "19                        0.35329     0.27571            2.11055  \n",
       "21                        0.46987     0.32706            1.99375  \n",
       "40                        0.23669     0.15965            2.28085  \n",
       "3                         0.35776     0.37895            2.66465  \n",
       "27                        0.35561     0.26591            2.21507  \n",
       "1                         0.41203     0.28083            2.69463  \n",
       "74                        0.31647     0.40097            0.92614  \n",
       "12                        0.14868     0.41077            2.72782  \n",
       "33                        0.30008     0.15457            2.61482  "
      ]
     },
     "execution_count": 7,
     "metadata": {},
     "output_type": "execute_result"
    }
   ],
   "source": [
    "top_10_country = df.sort_values(by= 'Economy (GDP per Capita)', ascending = False).head(10)\n",
    "top_10_country"
   ]
  },
  {
   "cell_type": "markdown",
   "metadata": {},
   "source": [
    "Identify the GDP per capita and Healthy Life Expectancy of the top 10 countries"
   ]
  },
  {
   "cell_type": "code",
   "execution_count": 8,
   "metadata": {},
   "outputs": [
    {
     "data": {
      "application/vnd.plotly.v1+json": {
       "config": {
        "plotlyServerURL": "https://plot.ly"
       },
       "data": [
        {
         "name": "Economy (GDP per Capita)",
         "type": "bar",
         "x": [
          "Qatar",
          "Luxembourg",
          "Singapore",
          "Kuwait",
          "Norway",
          "United Arab Emirates",
          "Switzerland",
          "Hong Kong",
          "United States",
          "Saudi Arabia"
         ],
         "y": {
          "bdata": "xy5RvTUw/T8M5US7Cin7P8DsnjwsVPo/5NpQMc7f+T+Tb7a5MT35P3ehuU4jLfk/5DEDlfFv+D9AE2HD0yv4P43ROqqaIPg/95LGaB3V9z8=",
          "dtype": "f8"
         }
        },
        {
         "name": "Health (Life Expectancy)",
         "type": "bar",
         "x": [
          "Qatar",
          "Luxembourg",
          "Singapore",
          "Kuwait",
          "Norway",
          "United Arab Emirates",
          "Switzerland",
          "Hong Kong",
          "United States",
          "Saudi Arabia"
         ],
         "y": {
          "bdata": "+rg2VIzz5j9ZTGw+rg3rP8gkI2dhT+4/nZ0MjpJX5D+eew+XHHfpPyTRyyiWW+c/rvAuF/Gd6z93hNOCF33uPyGwcmiR7eg/EEBqEyf34j8=",
          "dtype": "f8"
         }
        }
       ],
       "layout": {
        "template": {
         "data": {
          "bar": [
           {
            "error_x": {
             "color": "#f2f5fa"
            },
            "error_y": {
             "color": "#f2f5fa"
            },
            "marker": {
             "line": {
              "color": "rgb(17,17,17)",
              "width": 0.5
             },
             "pattern": {
              "fillmode": "overlay",
              "size": 10,
              "solidity": 0.2
             }
            },
            "type": "bar"
           }
          ],
          "barpolar": [
           {
            "marker": {
             "line": {
              "color": "rgb(17,17,17)",
              "width": 0.5
             },
             "pattern": {
              "fillmode": "overlay",
              "size": 10,
              "solidity": 0.2
             }
            },
            "type": "barpolar"
           }
          ],
          "carpet": [
           {
            "aaxis": {
             "endlinecolor": "#A2B1C6",
             "gridcolor": "#506784",
             "linecolor": "#506784",
             "minorgridcolor": "#506784",
             "startlinecolor": "#A2B1C6"
            },
            "baxis": {
             "endlinecolor": "#A2B1C6",
             "gridcolor": "#506784",
             "linecolor": "#506784",
             "minorgridcolor": "#506784",
             "startlinecolor": "#A2B1C6"
            },
            "type": "carpet"
           }
          ],
          "choropleth": [
           {
            "colorbar": {
             "outlinewidth": 0,
             "ticks": ""
            },
            "type": "choropleth"
           }
          ],
          "contour": [
           {
            "colorbar": {
             "outlinewidth": 0,
             "ticks": ""
            },
            "colorscale": [
             [
              0,
              "#0d0887"
             ],
             [
              0.1111111111111111,
              "#46039f"
             ],
             [
              0.2222222222222222,
              "#7201a8"
             ],
             [
              0.3333333333333333,
              "#9c179e"
             ],
             [
              0.4444444444444444,
              "#bd3786"
             ],
             [
              0.5555555555555556,
              "#d8576b"
             ],
             [
              0.6666666666666666,
              "#ed7953"
             ],
             [
              0.7777777777777778,
              "#fb9f3a"
             ],
             [
              0.8888888888888888,
              "#fdca26"
             ],
             [
              1,
              "#f0f921"
             ]
            ],
            "type": "contour"
           }
          ],
          "contourcarpet": [
           {
            "colorbar": {
             "outlinewidth": 0,
             "ticks": ""
            },
            "type": "contourcarpet"
           }
          ],
          "heatmap": [
           {
            "colorbar": {
             "outlinewidth": 0,
             "ticks": ""
            },
            "colorscale": [
             [
              0,
              "#0d0887"
             ],
             [
              0.1111111111111111,
              "#46039f"
             ],
             [
              0.2222222222222222,
              "#7201a8"
             ],
             [
              0.3333333333333333,
              "#9c179e"
             ],
             [
              0.4444444444444444,
              "#bd3786"
             ],
             [
              0.5555555555555556,
              "#d8576b"
             ],
             [
              0.6666666666666666,
              "#ed7953"
             ],
             [
              0.7777777777777778,
              "#fb9f3a"
             ],
             [
              0.8888888888888888,
              "#fdca26"
             ],
             [
              1,
              "#f0f921"
             ]
            ],
            "type": "heatmap"
           }
          ],
          "histogram": [
           {
            "marker": {
             "pattern": {
              "fillmode": "overlay",
              "size": 10,
              "solidity": 0.2
             }
            },
            "type": "histogram"
           }
          ],
          "histogram2d": [
           {
            "colorbar": {
             "outlinewidth": 0,
             "ticks": ""
            },
            "colorscale": [
             [
              0,
              "#0d0887"
             ],
             [
              0.1111111111111111,
              "#46039f"
             ],
             [
              0.2222222222222222,
              "#7201a8"
             ],
             [
              0.3333333333333333,
              "#9c179e"
             ],
             [
              0.4444444444444444,
              "#bd3786"
             ],
             [
              0.5555555555555556,
              "#d8576b"
             ],
             [
              0.6666666666666666,
              "#ed7953"
             ],
             [
              0.7777777777777778,
              "#fb9f3a"
             ],
             [
              0.8888888888888888,
              "#fdca26"
             ],
             [
              1,
              "#f0f921"
             ]
            ],
            "type": "histogram2d"
           }
          ],
          "histogram2dcontour": [
           {
            "colorbar": {
             "outlinewidth": 0,
             "ticks": ""
            },
            "colorscale": [
             [
              0,
              "#0d0887"
             ],
             [
              0.1111111111111111,
              "#46039f"
             ],
             [
              0.2222222222222222,
              "#7201a8"
             ],
             [
              0.3333333333333333,
              "#9c179e"
             ],
             [
              0.4444444444444444,
              "#bd3786"
             ],
             [
              0.5555555555555556,
              "#d8576b"
             ],
             [
              0.6666666666666666,
              "#ed7953"
             ],
             [
              0.7777777777777778,
              "#fb9f3a"
             ],
             [
              0.8888888888888888,
              "#fdca26"
             ],
             [
              1,
              "#f0f921"
             ]
            ],
            "type": "histogram2dcontour"
           }
          ],
          "mesh3d": [
           {
            "colorbar": {
             "outlinewidth": 0,
             "ticks": ""
            },
            "type": "mesh3d"
           }
          ],
          "parcoords": [
           {
            "line": {
             "colorbar": {
              "outlinewidth": 0,
              "ticks": ""
             }
            },
            "type": "parcoords"
           }
          ],
          "pie": [
           {
            "automargin": true,
            "type": "pie"
           }
          ],
          "scatter": [
           {
            "marker": {
             "line": {
              "color": "#283442"
             }
            },
            "type": "scatter"
           }
          ],
          "scatter3d": [
           {
            "line": {
             "colorbar": {
              "outlinewidth": 0,
              "ticks": ""
             }
            },
            "marker": {
             "colorbar": {
              "outlinewidth": 0,
              "ticks": ""
             }
            },
            "type": "scatter3d"
           }
          ],
          "scattercarpet": [
           {
            "marker": {
             "colorbar": {
              "outlinewidth": 0,
              "ticks": ""
             }
            },
            "type": "scattercarpet"
           }
          ],
          "scattergeo": [
           {
            "marker": {
             "colorbar": {
              "outlinewidth": 0,
              "ticks": ""
             }
            },
            "type": "scattergeo"
           }
          ],
          "scattergl": [
           {
            "marker": {
             "line": {
              "color": "#283442"
             }
            },
            "type": "scattergl"
           }
          ],
          "scattermap": [
           {
            "marker": {
             "colorbar": {
              "outlinewidth": 0,
              "ticks": ""
             }
            },
            "type": "scattermap"
           }
          ],
          "scattermapbox": [
           {
            "marker": {
             "colorbar": {
              "outlinewidth": 0,
              "ticks": ""
             }
            },
            "type": "scattermapbox"
           }
          ],
          "scatterpolar": [
           {
            "marker": {
             "colorbar": {
              "outlinewidth": 0,
              "ticks": ""
             }
            },
            "type": "scatterpolar"
           }
          ],
          "scatterpolargl": [
           {
            "marker": {
             "colorbar": {
              "outlinewidth": 0,
              "ticks": ""
             }
            },
            "type": "scatterpolargl"
           }
          ],
          "scatterternary": [
           {
            "marker": {
             "colorbar": {
              "outlinewidth": 0,
              "ticks": ""
             }
            },
            "type": "scatterternary"
           }
          ],
          "surface": [
           {
            "colorbar": {
             "outlinewidth": 0,
             "ticks": ""
            },
            "colorscale": [
             [
              0,
              "#0d0887"
             ],
             [
              0.1111111111111111,
              "#46039f"
             ],
             [
              0.2222222222222222,
              "#7201a8"
             ],
             [
              0.3333333333333333,
              "#9c179e"
             ],
             [
              0.4444444444444444,
              "#bd3786"
             ],
             [
              0.5555555555555556,
              "#d8576b"
             ],
             [
              0.6666666666666666,
              "#ed7953"
             ],
             [
              0.7777777777777778,
              "#fb9f3a"
             ],
             [
              0.8888888888888888,
              "#fdca26"
             ],
             [
              1,
              "#f0f921"
             ]
            ],
            "type": "surface"
           }
          ],
          "table": [
           {
            "cells": {
             "fill": {
              "color": "#506784"
             },
             "line": {
              "color": "rgb(17,17,17)"
             }
            },
            "header": {
             "fill": {
              "color": "#2a3f5f"
             },
             "line": {
              "color": "rgb(17,17,17)"
             }
            },
            "type": "table"
           }
          ]
         },
         "layout": {
          "annotationdefaults": {
           "arrowcolor": "#f2f5fa",
           "arrowhead": 0,
           "arrowwidth": 1
          },
          "autotypenumbers": "strict",
          "coloraxis": {
           "colorbar": {
            "outlinewidth": 0,
            "ticks": ""
           }
          },
          "colorscale": {
           "diverging": [
            [
             0,
             "#8e0152"
            ],
            [
             0.1,
             "#c51b7d"
            ],
            [
             0.2,
             "#de77ae"
            ],
            [
             0.3,
             "#f1b6da"
            ],
            [
             0.4,
             "#fde0ef"
            ],
            [
             0.5,
             "#f7f7f7"
            ],
            [
             0.6,
             "#e6f5d0"
            ],
            [
             0.7,
             "#b8e186"
            ],
            [
             0.8,
             "#7fbc41"
            ],
            [
             0.9,
             "#4d9221"
            ],
            [
             1,
             "#276419"
            ]
           ],
           "sequential": [
            [
             0,
             "#0d0887"
            ],
            [
             0.1111111111111111,
             "#46039f"
            ],
            [
             0.2222222222222222,
             "#7201a8"
            ],
            [
             0.3333333333333333,
             "#9c179e"
            ],
            [
             0.4444444444444444,
             "#bd3786"
            ],
            [
             0.5555555555555556,
             "#d8576b"
            ],
            [
             0.6666666666666666,
             "#ed7953"
            ],
            [
             0.7777777777777778,
             "#fb9f3a"
            ],
            [
             0.8888888888888888,
             "#fdca26"
            ],
            [
             1,
             "#f0f921"
            ]
           ],
           "sequentialminus": [
            [
             0,
             "#0d0887"
            ],
            [
             0.1111111111111111,
             "#46039f"
            ],
            [
             0.2222222222222222,
             "#7201a8"
            ],
            [
             0.3333333333333333,
             "#9c179e"
            ],
            [
             0.4444444444444444,
             "#bd3786"
            ],
            [
             0.5555555555555556,
             "#d8576b"
            ],
            [
             0.6666666666666666,
             "#ed7953"
            ],
            [
             0.7777777777777778,
             "#fb9f3a"
            ],
            [
             0.8888888888888888,
             "#fdca26"
            ],
            [
             1,
             "#f0f921"
            ]
           ]
          },
          "colorway": [
           "#636efa",
           "#EF553B",
           "#00cc96",
           "#ab63fa",
           "#FFA15A",
           "#19d3f3",
           "#FF6692",
           "#B6E880",
           "#FF97FF",
           "#FECB52"
          ],
          "font": {
           "color": "#f2f5fa"
          },
          "geo": {
           "bgcolor": "rgb(17,17,17)",
           "lakecolor": "rgb(17,17,17)",
           "landcolor": "rgb(17,17,17)",
           "showlakes": true,
           "showland": true,
           "subunitcolor": "#506784"
          },
          "hoverlabel": {
           "align": "left"
          },
          "hovermode": "closest",
          "mapbox": {
           "style": "dark"
          },
          "paper_bgcolor": "rgb(17,17,17)",
          "plot_bgcolor": "rgb(17,17,17)",
          "polar": {
           "angularaxis": {
            "gridcolor": "#506784",
            "linecolor": "#506784",
            "ticks": ""
           },
           "bgcolor": "rgb(17,17,17)",
           "radialaxis": {
            "gridcolor": "#506784",
            "linecolor": "#506784",
            "ticks": ""
           }
          },
          "scene": {
           "xaxis": {
            "backgroundcolor": "rgb(17,17,17)",
            "gridcolor": "#506784",
            "gridwidth": 2,
            "linecolor": "#506784",
            "showbackground": true,
            "ticks": "",
            "zerolinecolor": "#C8D4E3"
           },
           "yaxis": {
            "backgroundcolor": "rgb(17,17,17)",
            "gridcolor": "#506784",
            "gridwidth": 2,
            "linecolor": "#506784",
            "showbackground": true,
            "ticks": "",
            "zerolinecolor": "#C8D4E3"
           },
           "zaxis": {
            "backgroundcolor": "rgb(17,17,17)",
            "gridcolor": "#506784",
            "gridwidth": 2,
            "linecolor": "#506784",
            "showbackground": true,
            "ticks": "",
            "zerolinecolor": "#C8D4E3"
           }
          },
          "shapedefaults": {
           "line": {
            "color": "#f2f5fa"
           }
          },
          "sliderdefaults": {
           "bgcolor": "#C8D4E3",
           "bordercolor": "rgb(17,17,17)",
           "borderwidth": 1,
           "tickwidth": 0
          },
          "ternary": {
           "aaxis": {
            "gridcolor": "#506784",
            "linecolor": "#506784",
            "ticks": ""
           },
           "baxis": {
            "gridcolor": "#506784",
            "linecolor": "#506784",
            "ticks": ""
           },
           "bgcolor": "rgb(17,17,17)",
           "caxis": {
            "gridcolor": "#506784",
            "linecolor": "#506784",
            "ticks": ""
           }
          },
          "title": {
           "x": 0.05
          },
          "updatemenudefaults": {
           "bgcolor": "#506784",
           "borderwidth": 0
          },
          "xaxis": {
           "automargin": true,
           "gridcolor": "#283442",
           "linecolor": "#506784",
           "ticks": "",
           "title": {
            "standoff": 15
           },
           "zerolinecolor": "#283442",
           "zerolinewidth": 2
          },
          "yaxis": {
           "automargin": true,
           "gridcolor": "#283442",
           "linecolor": "#506784",
           "ticks": "",
           "title": {
            "standoff": 15
           },
           "zerolinecolor": "#283442",
           "zerolinewidth": 2
          }
         }
        },
        "title": {
         "text": "Top 10 Health (Life Expectancy)"
        },
        "yaxis": {
         "title": {
          "text": "Health (Life Expectancy)"
         }
        }
       }
      }
     },
     "metadata": {},
     "output_type": "display_data"
    }
   ],
   "source": [
    "fig = go.Figure()\n",
    "fig.add_trace(go.Bar(x = top_10_country['Country'], y = top_10_country['Economy (GDP per Capita)'], name = 'Economy (GDP per Capita)'))\n",
    "fig.update_layout(title = 'Top 10 Economy (GDP per Capita)', yaxis_title = 'Economy (GDP per Capita)')\n",
    "fig.add_trace(go.Bar(x = top_10_country['Country'], y = top_10_country['Health (Life Expectancy)'], name = 'Health (Life Expectancy)'))\n",
    "fig.update_layout(title = 'Top 10 Health (Life Expectancy)', yaxis_title = 'Health (Life Expectancy)')\n",
    "fig.show()"
   ]
  },
  {
   "cell_type": "markdown",
   "metadata": {},
   "source": [
    "Correlation analysis"
   ]
  },
  {
   "cell_type": "code",
   "execution_count": 9,
   "metadata": {},
   "outputs": [
    {
     "data": {
      "text/html": [
       "<div>\n",
       "<style scoped>\n",
       "    .dataframe tbody tr th:only-of-type {\n",
       "        vertical-align: middle;\n",
       "    }\n",
       "\n",
       "    .dataframe tbody tr th {\n",
       "        vertical-align: top;\n",
       "    }\n",
       "\n",
       "    .dataframe thead th {\n",
       "        text-align: right;\n",
       "    }\n",
       "</style>\n",
       "<table border=\"1\" class=\"dataframe\">\n",
       "  <thead>\n",
       "    <tr style=\"text-align: right;\">\n",
       "      <th></th>\n",
       "      <th>Happiness Rank</th>\n",
       "      <th>Happiness Score</th>\n",
       "      <th>Lower Confidence Interval</th>\n",
       "      <th>Upper Confidence Interval</th>\n",
       "      <th>Economy (GDP per Capita)</th>\n",
       "      <th>Family</th>\n",
       "      <th>Health (Life Expectancy)</th>\n",
       "      <th>Freedom</th>\n",
       "      <th>Trust (Government Corruption)</th>\n",
       "      <th>Generosity</th>\n",
       "      <th>Dystopia Residual</th>\n",
       "    </tr>\n",
       "  </thead>\n",
       "  <tbody>\n",
       "    <tr>\n",
       "      <th>Happiness Rank</th>\n",
       "      <td>1.000000</td>\n",
       "      <td>-0.995743</td>\n",
       "      <td>-0.994928</td>\n",
       "      <td>-0.995525</td>\n",
       "      <td>-0.793577</td>\n",
       "      <td>-0.733276</td>\n",
       "      <td>-0.767991</td>\n",
       "      <td>-0.557169</td>\n",
       "      <td>-0.387102</td>\n",
       "      <td>-0.145369</td>\n",
       "      <td>-0.542616</td>\n",
       "    </tr>\n",
       "    <tr>\n",
       "      <th>Happiness Score</th>\n",
       "      <td>-0.995743</td>\n",
       "      <td>1.000000</td>\n",
       "      <td>0.999485</td>\n",
       "      <td>0.999474</td>\n",
       "      <td>0.790322</td>\n",
       "      <td>0.739252</td>\n",
       "      <td>0.765384</td>\n",
       "      <td>0.566827</td>\n",
       "      <td>0.402032</td>\n",
       "      <td>0.156848</td>\n",
       "      <td>0.543738</td>\n",
       "    </tr>\n",
       "    <tr>\n",
       "      <th>Lower Confidence Interval</th>\n",
       "      <td>-0.994928</td>\n",
       "      <td>0.999485</td>\n",
       "      <td>1.000000</td>\n",
       "      <td>0.997919</td>\n",
       "      <td>0.790673</td>\n",
       "      <td>0.741523</td>\n",
       "      <td>0.769177</td>\n",
       "      <td>0.566857</td>\n",
       "      <td>0.404840</td>\n",
       "      <td>0.158025</td>\n",
       "      <td>0.538793</td>\n",
       "    </tr>\n",
       "    <tr>\n",
       "      <th>Upper Confidence Interval</th>\n",
       "      <td>-0.995525</td>\n",
       "      <td>0.999474</td>\n",
       "      <td>0.997919</td>\n",
       "      <td>1.000000</td>\n",
       "      <td>0.789140</td>\n",
       "      <td>0.736184</td>\n",
       "      <td>0.760752</td>\n",
       "      <td>0.566203</td>\n",
       "      <td>0.398775</td>\n",
       "      <td>0.155495</td>\n",
       "      <td>0.548164</td>\n",
       "    </tr>\n",
       "    <tr>\n",
       "      <th>Economy (GDP per Capita)</th>\n",
       "      <td>-0.793577</td>\n",
       "      <td>0.790322</td>\n",
       "      <td>0.790673</td>\n",
       "      <td>0.789140</td>\n",
       "      <td>1.000000</td>\n",
       "      <td>0.669540</td>\n",
       "      <td>0.837067</td>\n",
       "      <td>0.362283</td>\n",
       "      <td>0.294185</td>\n",
       "      <td>-0.025531</td>\n",
       "      <td>0.068624</td>\n",
       "    </tr>\n",
       "    <tr>\n",
       "      <th>Family</th>\n",
       "      <td>-0.733276</td>\n",
       "      <td>0.739252</td>\n",
       "      <td>0.741523</td>\n",
       "      <td>0.736184</td>\n",
       "      <td>0.669540</td>\n",
       "      <td>1.000000</td>\n",
       "      <td>0.588377</td>\n",
       "      <td>0.450208</td>\n",
       "      <td>0.213561</td>\n",
       "      <td>0.089629</td>\n",
       "      <td>0.119672</td>\n",
       "    </tr>\n",
       "    <tr>\n",
       "      <th>Health (Life Expectancy)</th>\n",
       "      <td>-0.767991</td>\n",
       "      <td>0.765384</td>\n",
       "      <td>0.769177</td>\n",
       "      <td>0.760752</td>\n",
       "      <td>0.837067</td>\n",
       "      <td>0.588377</td>\n",
       "      <td>1.000000</td>\n",
       "      <td>0.341199</td>\n",
       "      <td>0.249583</td>\n",
       "      <td>0.075987</td>\n",
       "      <td>0.100857</td>\n",
       "    </tr>\n",
       "    <tr>\n",
       "      <th>Freedom</th>\n",
       "      <td>-0.557169</td>\n",
       "      <td>0.566827</td>\n",
       "      <td>0.566857</td>\n",
       "      <td>0.566203</td>\n",
       "      <td>0.362283</td>\n",
       "      <td>0.450208</td>\n",
       "      <td>0.341199</td>\n",
       "      <td>1.000000</td>\n",
       "      <td>0.502054</td>\n",
       "      <td>0.361751</td>\n",
       "      <td>0.091631</td>\n",
       "    </tr>\n",
       "    <tr>\n",
       "      <th>Trust (Government Corruption)</th>\n",
       "      <td>-0.387102</td>\n",
       "      <td>0.402032</td>\n",
       "      <td>0.404840</td>\n",
       "      <td>0.398775</td>\n",
       "      <td>0.294185</td>\n",
       "      <td>0.213561</td>\n",
       "      <td>0.249583</td>\n",
       "      <td>0.502054</td>\n",
       "      <td>1.000000</td>\n",
       "      <td>0.305930</td>\n",
       "      <td>-0.002909</td>\n",
       "    </tr>\n",
       "    <tr>\n",
       "      <th>Generosity</th>\n",
       "      <td>-0.145369</td>\n",
       "      <td>0.156848</td>\n",
       "      <td>0.158025</td>\n",
       "      <td>0.155495</td>\n",
       "      <td>-0.025531</td>\n",
       "      <td>0.089629</td>\n",
       "      <td>0.075987</td>\n",
       "      <td>0.361751</td>\n",
       "      <td>0.305930</td>\n",
       "      <td>1.000000</td>\n",
       "      <td>-0.133001</td>\n",
       "    </tr>\n",
       "    <tr>\n",
       "      <th>Dystopia Residual</th>\n",
       "      <td>-0.542616</td>\n",
       "      <td>0.543738</td>\n",
       "      <td>0.538793</td>\n",
       "      <td>0.548164</td>\n",
       "      <td>0.068624</td>\n",
       "      <td>0.119672</td>\n",
       "      <td>0.100857</td>\n",
       "      <td>0.091631</td>\n",
       "      <td>-0.002909</td>\n",
       "      <td>-0.133001</td>\n",
       "      <td>1.000000</td>\n",
       "    </tr>\n",
       "  </tbody>\n",
       "</table>\n",
       "</div>"
      ],
      "text/plain": [
       "                               Happiness Rank  Happiness Score  \\\n",
       "Happiness Rank                       1.000000        -0.995743   \n",
       "Happiness Score                     -0.995743         1.000000   \n",
       "Lower Confidence Interval           -0.994928         0.999485   \n",
       "Upper Confidence Interval           -0.995525         0.999474   \n",
       "Economy (GDP per Capita)            -0.793577         0.790322   \n",
       "Family                              -0.733276         0.739252   \n",
       "Health (Life Expectancy)            -0.767991         0.765384   \n",
       "Freedom                             -0.557169         0.566827   \n",
       "Trust (Government Corruption)       -0.387102         0.402032   \n",
       "Generosity                          -0.145369         0.156848   \n",
       "Dystopia Residual                   -0.542616         0.543738   \n",
       "\n",
       "                               Lower Confidence Interval  \\\n",
       "Happiness Rank                                 -0.994928   \n",
       "Happiness Score                                 0.999485   \n",
       "Lower Confidence Interval                       1.000000   \n",
       "Upper Confidence Interval                       0.997919   \n",
       "Economy (GDP per Capita)                        0.790673   \n",
       "Family                                          0.741523   \n",
       "Health (Life Expectancy)                        0.769177   \n",
       "Freedom                                         0.566857   \n",
       "Trust (Government Corruption)                   0.404840   \n",
       "Generosity                                      0.158025   \n",
       "Dystopia Residual                               0.538793   \n",
       "\n",
       "                               Upper Confidence Interval  \\\n",
       "Happiness Rank                                 -0.995525   \n",
       "Happiness Score                                 0.999474   \n",
       "Lower Confidence Interval                       0.997919   \n",
       "Upper Confidence Interval                       1.000000   \n",
       "Economy (GDP per Capita)                        0.789140   \n",
       "Family                                          0.736184   \n",
       "Health (Life Expectancy)                        0.760752   \n",
       "Freedom                                         0.566203   \n",
       "Trust (Government Corruption)                   0.398775   \n",
       "Generosity                                      0.155495   \n",
       "Dystopia Residual                               0.548164   \n",
       "\n",
       "                               Economy (GDP per Capita)    Family  \\\n",
       "Happiness Rank                                -0.793577 -0.733276   \n",
       "Happiness Score                                0.790322  0.739252   \n",
       "Lower Confidence Interval                      0.790673  0.741523   \n",
       "Upper Confidence Interval                      0.789140  0.736184   \n",
       "Economy (GDP per Capita)                       1.000000  0.669540   \n",
       "Family                                         0.669540  1.000000   \n",
       "Health (Life Expectancy)                       0.837067  0.588377   \n",
       "Freedom                                        0.362283  0.450208   \n",
       "Trust (Government Corruption)                  0.294185  0.213561   \n",
       "Generosity                                    -0.025531  0.089629   \n",
       "Dystopia Residual                              0.068624  0.119672   \n",
       "\n",
       "                               Health (Life Expectancy)   Freedom  \\\n",
       "Happiness Rank                                -0.767991 -0.557169   \n",
       "Happiness Score                                0.765384  0.566827   \n",
       "Lower Confidence Interval                      0.769177  0.566857   \n",
       "Upper Confidence Interval                      0.760752  0.566203   \n",
       "Economy (GDP per Capita)                       0.837067  0.362283   \n",
       "Family                                         0.588377  0.450208   \n",
       "Health (Life Expectancy)                       1.000000  0.341199   \n",
       "Freedom                                        0.341199  1.000000   \n",
       "Trust (Government Corruption)                  0.249583  0.502054   \n",
       "Generosity                                     0.075987  0.361751   \n",
       "Dystopia Residual                              0.100857  0.091631   \n",
       "\n",
       "                               Trust (Government Corruption)  Generosity  \\\n",
       "Happiness Rank                                     -0.387102   -0.145369   \n",
       "Happiness Score                                     0.402032    0.156848   \n",
       "Lower Confidence Interval                           0.404840    0.158025   \n",
       "Upper Confidence Interval                           0.398775    0.155495   \n",
       "Economy (GDP per Capita)                            0.294185   -0.025531   \n",
       "Family                                              0.213561    0.089629   \n",
       "Health (Life Expectancy)                            0.249583    0.075987   \n",
       "Freedom                                             0.502054    0.361751   \n",
       "Trust (Government Corruption)                       1.000000    0.305930   \n",
       "Generosity                                          0.305930    1.000000   \n",
       "Dystopia Residual                                  -0.002909   -0.133001   \n",
       "\n",
       "                               Dystopia Residual  \n",
       "Happiness Rank                         -0.542616  \n",
       "Happiness Score                         0.543738  \n",
       "Lower Confidence Interval               0.538793  \n",
       "Upper Confidence Interval               0.548164  \n",
       "Economy (GDP per Capita)                0.068624  \n",
       "Family                                  0.119672  \n",
       "Health (Life Expectancy)                0.100857  \n",
       "Freedom                                 0.091631  \n",
       "Trust (Government Corruption)          -0.002909  \n",
       "Generosity                             -0.133001  \n",
       "Dystopia Residual                       1.000000  "
      ]
     },
     "execution_count": 9,
     "metadata": {},
     "output_type": "execute_result"
    }
   ],
   "source": [
    "cols = df.select_dtypes(include = ['float64', 'int64']).columns\n",
    "df_corr = df[cols].corr()\n",
    "df_corr"
   ]
  },
  {
   "cell_type": "code",
   "execution_count": 10,
   "metadata": {},
   "outputs": [
    {
     "data": {
      "image/png": "[encoded data removed]",
      "text/plain": [
       "<Figure size 640x480 with 2 Axes>"
      ]
     },
     "metadata": {},
     "output_type": "display_data"
    }
   ],
   "source": [
    "sns.heatmap(df_corr, annot = True, cmap = 'coolwarm', linewidths = 0.5, fmt = '.2f')\n",
    "plt.title('Correlation Heatmap')\n",
    "plt.show()"
   ]
  },
  {
   "cell_type": "code",
   "execution_count": 11,
   "metadata": {},
   "outputs": [
    {
     "data": {
      "image/png": "[encoded data removed]",
      "text/plain": [
       "<Figure size 640x480 with 1 Axes>"
      ]
     },
     "metadata": {},
     "output_type": "display_data"
    }
   ],
   "source": [
    "sns.regplot(x = 'Happiness Score', y = 'Economy (GDP per Capita)', data = df)\n",
    "plt.title('Happiness Score vs Economy (GDP per Capita)')\n",
    "plt.show()"
   ]
  },
  {
   "cell_type": "code",
   "execution_count": 12,
   "metadata": {},
   "outputs": [
    {
     "name": "stdout",
     "output_type": "stream",
     "text": [
      "Correlation: 0.7903220167261058\n",
      "P-value: 8.494371735008204e-35\n"
     ]
    }
   ],
   "source": [
    "from scipy import stats\n",
    "corr, p_value = stats.pearsonr(df['Happiness Score'], df['Economy (GDP per Capita)'])\n",
    "print(f'Correlation: {corr}')\n",
    "print(f'P-value: {p_value}')"
   ]
  },
  {
   "cell_type": "markdown",
   "metadata": {},
   "source": [
    "- There is a strong positive linear relationship between Happiness Score and Economy (GDP per Capita)\n",
    "- There is a meaningful relationship between these 2 variables"
   ]
  },
  {
   "cell_type": "markdown",
   "metadata": {},
   "source": [
    "Identify the effect of GDP per capita on Happiness Score in various Regions"
   ]
  },
  {
   "cell_type": "code",
   "execution_count": 13,
   "metadata": {},
   "outputs": [
    {
     "data": {
      "application/vnd.plotly.v1+json": {
       "config": {
        "plotlyServerURL": "https://plot.ly"
       },
       "data": [
        {
         "hovertemplate": "<b>%{hovertext}</b><br><br>Region=Western Europe<br>Economy (GDP per Capita)=%{x}<br>Happiness Score=%{y}<extra></extra>",
         "hovertext": [
          "Western Europe",
          "Western Europe",
          "Western Europe",
          "Western Europe",
          "Western Europe",
          "Western Europe",
          "Western Europe",
          "Western Europe",
          "Western Europe",
          "Western Europe",
          "Western Europe",
          "Western Europe",
          "Western Europe",
          "Western Europe",
          "Western Europe",
          "Western Europe",
          "Western Europe",
          "Western Europe",
          "Western Europe",
          "Western Europe",
          "Western Europe"
         ],
         "legendgroup": "Western Europe",
         "marker": {
          "color": "#636efa",
          "symbol": "circle"
         },
         "mode": "markers",
         "name": "Western Europe",
         "orientation": "v",
         "showlegend": true,
         "type": "scatter",
         "x": {
          "bdata": "Gm7A54cR9z/kMQOV8W/4P4guqG+Z0/Y/k2+2uTE9+T8CSG3i5H72PzqvsUtUb/c/mBdgH5069z8UXKyowTT3P5jArbt5Kvc/H7qgvmXO9j8j88gfDLz3PwzlRLsKKfs/GZC93v1x9j8i4BCq1Oz0P/2C3bBtUfY/0GG+vAB79T92cRsN4K31P5ZbWg2J+/Q/m8k329wY9T/tgVZgyGr0P16FlJ9U+/M/",
          "dtype": "f8"
         },
         "xaxis": "x",
         "y": {
          "bdata": "tMh2vp8aHkDwp8ZLNwkeQBsv3SQGAR5Ay6FFtvP9HUD0/dR46aYdQEJg5dAiWx1ARIts5/spHUBg5dAi23kcQGDl0CLb+RtAnu+nxku3G0BU46WbxKAbQJZDi2znextAZmZmZmbmGkDByqFFtvMZQLbz/dR46RlAi2zn+6lxGUCcxCCwcugXQC/dJAaBFRdAyXa+nxovFkDLoUW2830UQG8Sg8DKIRRA",
          "dtype": "f8"
         },
         "yaxis": "y"
        },
        {
         "hovertemplate": "<b>%{hovertext}</b><br><br>Region=North America<br>Economy (GDP per Capita)=%{x}<br>Happiness Score=%{y}<extra></extra>",
         "hovertext": [
          "North America",
          "North America"
         ],
         "legendgroup": "North America",
         "marker": {
          "color": "#EF553B",
          "symbol": "circle"
         },
         "mode": "markers",
         "name": "North America",
         "orientation": "v",
         "showlegend": true,
         "type": "scatter",
         "x": {
          "bdata": "tFn1udoK9z+N0TqqmiD4Pw==",
          "dtype": "f8"
         },
         "xaxis": "x",
         "y": {
          "bdata": "BFYOLbKdHUDRItv5fmocQA==",
          "dtype": "f8"
         },
         "yaxis": "y"
        },
        {
         "hovertemplate": "<b>%{hovertext}</b><br><br>Region=Australia and New Zealand<br>Economy (GDP per Capita)=%{x}<br>Happiness Score=%{y}<extra></extra>",
         "hovertext": [
          "Australia and New Zealand",
          "Australia and New Zealand"
         ],
         "legendgroup": "Australia and New Zealand",
         "marker": {
          "color": "#00cc96",
          "symbol": "circle"
         },
         "mode": "markers",
         "name": "Australia and New Zealand",
         "orientation": "v",
         "showlegend": true,
         "type": "scatter",
         "x": {
          "bdata": "E5uPa0PF9T/Ox7WhYhz3Pw==",
          "dtype": "f8"
         },
         "xaxis": "x",
         "y": {
          "bdata": "vHSTGARWHUCNl24Sg0AdQA==",
          "dtype": "f8"
         },
         "yaxis": "y"
        },
        {
         "hovertemplate": "<b>%{hovertext}</b><br><br>Region=Middle East and Northern Africa<br>Economy (GDP per Capita)=%{x}<br>Happiness Score=%{y}<extra></extra>",
         "hovertext": [
          "Middle East and Northern Africa",
          "Middle East and Northern Africa",
          "Middle East and Northern Africa",
          "Middle East and Northern Africa",
          "Middle East and Northern Africa",
          "Middle East and Northern Africa",
          "Middle East and Northern Africa",
          "Middle East and Northern Africa",
          "Middle East and Northern Africa",
          "Middle East and Northern Africa",
          "Middle East and Northern Africa",
          "Middle East and Northern Africa",
          "Middle East and Northern Africa",
          "Middle East and Northern Africa",
          "Middle East and Northern Africa",
          "Middle East and Northern Africa",
          "Middle East and Northern Africa",
          "Middle East and Northern Africa",
          "Middle East and Northern Africa"
         ],
         "legendgroup": "Middle East and Northern Africa",
         "marker": {
          "color": "#ab63fa",
          "symbol": "circle"
         },
         "mode": "markers",
         "name": "Middle East and Northern Africa",
         "orientation": "v",
         "showlegend": true,
         "type": "scatter",
         "x": {
          "bdata": "gq0SLA5n9T93oblOIy35P/eSxmgd1fc/xy5RvTUw/T/y6hwDstfwP+TaUDHO3/k/s0EmGTkL9z+LGkzD8BHxPxZNZyeDo/I/hSUeUDbl7z9nfjUHCObqP/T4vU1/9vE/L/oK0oxF7z9vnuqQm+HxP8ISDyibcuU/pz/7kSIy8T9JnYAmwobuP18ktOVciuI/Yr68APvo5z8=",
          "dtype": "f8"
         },
         "xaxis": "x",
         "y": {
          "bdata": "xSCwcmgRHUCYbhKDwEoaQGq8dJMYhBlAAAAAAACAGUDsUbgehWsZQNv5fmq89BhArBxaZDvfGED2KFyPwnUWQHWTGARWjhVAg8DKoUU2FUC0yHa+n5oUQGq8dJMYhBRArkfhehQuFECNl24Sg0ATQGq8dJMYBBNAzczMzMxMEkCmm8QgsHIRQJhuEoPAyg1AWmQ730+NCEA=",
          "dtype": "f8"
         },
         "yaxis": "y"
        },
        {
         "hovertemplate": "<b>%{hovertext}</b><br><br>Region=Latin America and Caribbean<br>Economy (GDP per Capita)=%{x}<br>Happiness Score=%{y}<extra></extra>",
         "hovertext": [
          "Latin America and Caribbean",
          "Latin America and Caribbean",
          "Latin America and Caribbean",
          "Latin America and Caribbean",
          "Latin America and Caribbean",
          "Latin America and Caribbean",
          "Latin America and Caribbean",
          "Latin America and Caribbean",
          "Latin America and Caribbean",
          "Latin America and Caribbean",
          "Latin America and Caribbean",
          "Latin America and Caribbean",
          "Latin America and Caribbean",
          "Latin America and Caribbean",
          "Latin America and Caribbean",
          "Latin America and Caribbean",
          "Latin America and Caribbean",
          "Latin America and Caribbean",
          "Latin America and Caribbean",
          "Latin America and Caribbean",
          "Latin America and Caribbean",
          "Latin America and Caribbean",
          "Latin America and Caribbean",
          "Latin America and Caribbean"
         ],
         "legendgroup": "Latin America and Caribbean",
         "marker": {
          "color": "#FFA15A",
          "symbol": "circle"
         },
         "mode": "markers",
         "name": "Latin America and Caribbean",
         "orientation": "v",
         "showlegend": true,
         "type": "scatter",
         "x": {
          "bdata": "YKsEi8MZ8T9xOPOrOcD1Py140VeQZvE/ZcdGIF7X8T/ysFBrmnfzP8tKk1LQ7fI/QIf58gJs8j+d9L7xtefyP7GiBtMwfPA/24XmOo206j8ipkQSvYzxPy5zuiwmNvU/Fk1nJ4Mj8j+FfNCzWfXrPzIDlfHvM+Y/3nahuU4j7z8MB0KygAnsPyeIug9Aauk/cy7FVWXf7z/Thy6ob5nsP0ok0csoluw/4KEo0Cdy8D8rE36pnzfmPxiyutVz0tU/",
          "dtype": "f8"
         },
         "xaxis": "x",
         "y": {
          "bdata": "DAIrhxZZHEAOLbKd7yccQAIrhxbZzhtA6SYxCKwcG0BSuB6F69EaQOf7qfHSzRpAmpmZmZmZGkCuR+F6FC4aQAaBlUOL7BlAsp3vp8ZLGUD6fmq8dBMZQHnpJjEIrBhAvHSTGARWGEASg8DKoUUYQCuHFtnO9xdAgZVDi2znF0Bt5/up8dIXQH0/NV66SRdARrbz/dT4FkD0/dR46SYWQArXo3A9ChZAH4XrUbieFECWQ4ts53sTQOkmMQisHBBA",
          "dtype": "f8"
         },
         "yaxis": "y"
        },
        {
         "hovertemplate": "<b>%{hovertext}</b><br><br>Region=Southeastern Asia<br>Economy (GDP per Capita)=%{x}<br>Happiness Score=%{y}<extra></extra>",
         "hovertext": [
          "Southeastern Asia",
          "Southeastern Asia",
          "Southeastern Asia",
          "Southeastern Asia",
          "Southeastern Asia",
          "Southeastern Asia",
          "Southeastern Asia",
          "Southeastern Asia",
          "Southeastern Asia"
         ],
         "legendgroup": "Southeastern Asia",
         "marker": {
          "color": "#19d3f3",
          "symbol": "circle"
         },
         "mode": "markers",
         "name": "Southeastern Asia",
         "orientation": "v",
         "showlegend": true,
         "type": "scatter",
         "x": {
          "bdata": "wOyePCxU+j9ZhjjWxW3xPxL3WPrQBfQ/yQImcOtu7j+vWpnwS/3pP4wQHm0csec/EmvxKQDG5T++vAD76NTVPyWS6GUUy+E/",
          "dtype": "f8"
         },
         "xaxis": "x",
         "y": {
          "bdata": "2/l+arz0GkBMN4lBYOUZQIXrUbgeBRhAqMZLN4lBFUAEVg4tsh0VQFg5tMh2PhRAGy/dJAaBE0AUrkfhepQRQKjGSzeJQQ9A",
          "dtype": "f8"
         },
         "yaxis": "y"
        },
        {
         "hovertemplate": "<b>%{hovertext}</b><br><br>Region=Central and Eastern Europe<br>Economy (GDP per Capita)=%{x}<br>Happiness Score=%{y}<extra></extra>",
         "hovertext": [
          "Central and Eastern Europe",
          "Central and Eastern Europe",
          "Central and Eastern Europe",
          "Central and Eastern Europe",
          "Central and Eastern Europe",
          "Central and Eastern Europe",
          "Central and Eastern Europe",
          "Central and Eastern Europe",
          "Central and Eastern Europe",
          "Central and Eastern Europe",
          "Central and Eastern Europe",
          "Central and Eastern Europe",
          "Central and Eastern Europe",
          "Central and Eastern Europe",
          "Central and Eastern Europe",
          "Central and Eastern Europe",
          "Central and Eastern Europe",
          "Central and Eastern Europe",
          "Central and Eastern Europe",
          "Central and Eastern Europe",
          "Central and Eastern Europe",
          "Central and Eastern Europe",
          "Central and Eastern Europe",
          "Central and Eastern Europe",
          "Central and Eastern Europe",
          "Central and Eastern Europe",
          "Central and Eastern Europe",
          "Central and Eastern Europe",
          "Central and Eastern Europe"
         ],
         "legendgroup": "Central and Eastern Europe",
         "marker": {
          "color": "#FF6692",
          "symbol": "circle"
         },
         "mode": "markers",
         "name": "Central and Eastern Europe",
         "orientation": "v",
         "showlegend": true,
         "type": "scatter",
         "x": {
          "bdata": "Ne84RUfy9D99XBsqxnn0P1uU2SCTjOc/XYqryr6r8z9QU8vW+iLmP/M8uDtrt/M/rIvbaADv8z/KVMGopE70P55BQ/8EF/I/QiECDqHK9D/V7IFWYEjxP1w9J71vfPM/ZRniWBe38j9+dOrKZ3n0PyR/MPDc+/I/m1Wfq63Y7D+Xi/hOzPrxPwLZ690f7+E/lGqfjseM8D/9wcBz7+HtP1ORCmMLQfE/6ZrJN9vc8z87AU2EDU/wPzcawFsgQd8/Ns07TtGR7j/q501FKozrP8oa9RCN7us/HEKVmj3Q6j+sxacAGM/xPw==",
          "dtype": "f8"
         },
         "xaxis": "x",
         "y": {
          "bdata": "/Knx0k1iGkAdWmQ7308YQKabxCCw8hdAkxgEVg6tF0BKDAIrh5YXQAaBlUOLbBdA16NwPQpXF0CNl24Sg0AXQGiR7Xw/NRdA30+Nl24SF0BvEoPAyqEWQD0K16NwPRZA6SYxCKwcFkDFILByaBEWQMHKoUW28xVAtMh2vp+aFUBEi2zn+ykVQD0K16NwvRRAaJHtfD+1FED0/dR46aYUQL6fGi/dpBRAFK5H4XqUFECWQ4ts53sUQJZDi2zn+xNAH4XrUbieEkBxPQrXo3ARQLKd76fGSxFANV66SQwCEUCR7Xw/Nd4QQA==",
          "dtype": "f8"
         },
         "yaxis": "y"
        },
        {
         "hovertemplate": "<b>%{hovertext}</b><br><br>Region=Eastern Asia<br>Economy (GDP per Capita)=%{x}<br>Happiness Score=%{y}<extra></extra>",
         "hovertext": [
          "Eastern Asia",
          "Eastern Asia",
          "Eastern Asia",
          "Eastern Asia",
          "Eastern Asia",
          "Eastern Asia"
         ],
         "legendgroup": "Eastern Asia",
         "marker": {
          "color": "#B6E880",
          "symbol": "circle"
         },
         "mode": "markers",
         "name": "Eastern Asia",
         "orientation": "v",
         "showlegend": true,
         "type": "scatter",
         "x": {
          "bdata": "CHJQwkxb9j8wDcNHxBT2P6oOuRluwPU/QBNhw9Mr+D/EQq1p3nHwPxmto6oJou8/",
          "dtype": "f8"
         },
         "xaxis": "x",
         "y": {
          "bdata": "arx0kxiEGUDJdr6fGq8XQNejcD0KVxdAokW28/3UFUB7FK5H4foUQFTjpZvEoBNA",
          "dtype": "f8"
         },
         "yaxis": "y"
        },
        {
         "hovertemplate": "<b>%{hovertext}</b><br><br>Region=Sub-Saharan Africa<br>Economy (GDP per Capita)=%{x}<br>Happiness Score=%{y}<extra></extra>",
         "hovertext": [
          "Sub-Saharan Africa",
          "Sub-Saharan Africa",
          "Sub-Saharan Africa",
          "Sub-Saharan Africa",
          "Sub-Saharan Africa",
          "Sub-Saharan Africa",
          "Sub-Saharan Africa",
          "Sub-Saharan Africa",
          "Sub-Saharan Africa",
          "Sub-Saharan Africa",
          "Sub-Saharan Africa",
          "Sub-Saharan Africa",
          "Sub-Saharan Africa",
          "Sub-Saharan Africa",
          "Sub-Saharan Africa",
          "Sub-Saharan Africa",
          "Sub-Saharan Africa",
          "Sub-Saharan Africa",
          "Sub-Saharan Africa",
          "Sub-Saharan Africa",
          "Sub-Saharan Africa",
          "Sub-Saharan Africa",
          "Sub-Saharan Africa",
          "Sub-Saharan Africa",
          "Sub-Saharan Africa",
          "Sub-Saharan Africa",
          "Sub-Saharan Africa",
          "Sub-Saharan Africa",
          "Sub-Saharan Africa",
          "Sub-Saharan Africa",
          "Sub-Saharan Africa",
          "Sub-Saharan Africa",
          "Sub-Saharan Africa",
          "Sub-Saharan Africa",
          "Sub-Saharan Africa",
          "Sub-Saharan Africa",
          "Sub-Saharan Africa",
          "Sub-Saharan Africa"
         ],
         "legendgroup": "Sub-Saharan Africa",
         "marker": {
          "color": "#FF97FF",
          "symbol": "circle"
         },
         "mode": "markers",
         "name": "Sub-Saharan Africa",
         "orientation": "v",
         "showlegend": true,
         "type": "scatter",
         "x": {
          "bdata": "eH+8V61M8j8AAAAAAAAAAF2/YDdsW9A/4X8r2bER6D/27o/3qpXjP7aEfNCzWdc/tWytLxLa7T8jMqzijczgP1lpUgq6vdI/F/GdmPVi8D/SNZNvtrngPzaTb7a5MeQ/ecxAZfz7rD94uYjvxKzoPwYq499nXNw/2v6VlSal4z8+P4wQHm3WPwgDz72HS7Y/dEF9y5wu5D9hbCHIQYnyP57qkJvhBtQ/pyIVxhaC8T+XOV0WE5vRP/qzHykiw+E/Plxy3Ckd6z8H8BZIUPzAP/WEJR5QNtk/FVeVfVcE2z+Zu5aQD3rUPyrj32dcONY/MiB7vfvj0T92cRsN4C3eP9Wytb5IaLs/xf6ye/KwzD+E04IXfQXVP4HPDyOER9k/ctwpHaz/0T/pYP2fw3yxPw==",
          "dtype": "f8"
         },
         "xaxis": "x",
         "y": {
          "bdata": "ZDvfT42XFkDD9Shcj8IVQO58PzVeOhRAAAAAAACAE0CuR+F6FC4TQArXo3A9ihJAsp3vp8ZLEkBaZDvfTw0SQNV46SYxCBJAvHSTGATWEUAGgZVDi2wRQLTIdr6fGhFASgwCK4cWEUCLbOf7qfEQQMdLN4lB4BBA5/up8dLNEEASg8DKocUQQDm0yHa+nxBAdZMYBFaOEECWQ4ts53sQQJhuEoPAShBAmG4Sg8DKD0DZzvdT46UPQIcW2c73Uw9AIbByaJHtDkAMAiuHFtkOQA4tsp3vpw5AtMh2vp8aDkC28/3UeOkNQLbz/dR46Q1Aj8L1KFyPDUCHFtnO91MNQGDl0CLb+QxAQmDl0CLbDEAfhetRuB4MQKwcWmQ73wtABoGVQ4tsCkA9CtejcD0HQA==",
          "dtype": "f8"
         },
         "yaxis": "y"
        },
        {
         "hovertemplate": "<b>%{hovertext}</b><br><br>Region=Southern Asia<br>Economy (GDP per Capita)=%{x}<br>Happiness Score=%{y}<extra></extra>",
         "hovertext": [
          "Southern Asia",
          "Southern Asia",
          "Southern Asia",
          "Southern Asia",
          "Southern Asia",
          "Southern Asia",
          "Southern Asia"
         ],
         "legendgroup": "Southern Asia",
         "marker": {
          "color": "#FECB52",
          "symbol": "circle"
         },
         "mode": "markers",
         "name": "Southern Asia",
         "orientation": "v",
         "showlegend": true,
         "type": "scatter",
         "x": {
          "bdata": "DJOpglFJ6z+hSs0eaAXmP1bUYBqGj9w/g4b+CS5W4T+H4SNiSiTvP6mHaHQHsec/nnsPlxx32D8=",
          "dtype": "f8"
         },
         "xaxis": "x",
         "y": {
          "bdata": "YhBYObTIFEC6SQwCK4cUQHnpJjEILBNA30+Nl26SEkApXI/C9agRQARWDi2ynRFA4XoUrkfhCkA=",
          "dtype": "f8"
         },
         "yaxis": "y"
        }
       ],
       "layout": {
        "legend": {
         "title": {
          "text": "Region"
         },
         "tracegroupgap": 0
        },
        "template": {
         "data": {
          "bar": [
           {
            "error_x": {
             "color": "#f2f5fa"
            },
            "error_y": {
             "color": "#f2f5fa"
            },
            "marker": {
             "line": {
              "color": "rgb(17,17,17)",
              "width": 0.5
             },
             "pattern": {
              "fillmode": "overlay",
              "size": 10,
              "solidity": 0.2
             }
            },
            "type": "bar"
           }
          ],
          "barpolar": [
           {
            "marker": {
             "line": {
              "color": "rgb(17,17,17)",
              "width": 0.5
             },
             "pattern": {
              "fillmode": "overlay",
              "size": 10,
              "solidity": 0.2
             }
            },
            "type": "barpolar"
           }
          ],
          "carpet": [
           {
            "aaxis": {
             "endlinecolor": "#A2B1C6",
             "gridcolor": "#506784",
             "linecolor": "#506784",
             "minorgridcolor": "#506784",
             "startlinecolor": "#A2B1C6"
            },
            "baxis": {
             "endlinecolor": "#A2B1C6",
             "gridcolor": "#506784",
             "linecolor": "#506784",
             "minorgridcolor": "#506784",
             "startlinecolor": "#A2B1C6"
            },
            "type": "carpet"
           }
          ],
          "choropleth": [
           {
            "colorbar": {
             "outlinewidth": 0,
             "ticks": ""
            },
            "type": "choropleth"
           }
          ],
          "contour": [
           {
            "colorbar": {
             "outlinewidth": 0,
             "ticks": ""
            },
            "colorscale": [
             [
              0,
              "#0d0887"
             ],
             [
              0.1111111111111111,
              "#46039f"
             ],
             [
              0.2222222222222222,
              "#7201a8"
             ],
             [
              0.3333333333333333,
              "#9c179e"
             ],
             [
              0.4444444444444444,
              "#bd3786"
             ],
             [
              0.5555555555555556,
              "#d8576b"
             ],
             [
              0.6666666666666666,
              "#ed7953"
             ],
             [
              0.7777777777777778,
              "#fb9f3a"
             ],
             [
              0.8888888888888888,
              "#fdca26"
             ],
             [
              1,
              "#f0f921"
             ]
            ],
            "type": "contour"
           }
          ],
          "contourcarpet": [
           {
            "colorbar": {
             "outlinewidth": 0,
             "ticks": ""
            },
            "type": "contourcarpet"
           }
          ],
          "heatmap": [
           {
            "colorbar": {
             "outlinewidth": 0,
             "ticks": ""
            },
            "colorscale": [
             [
              0,
              "#0d0887"
             ],
             [
              0.1111111111111111,
              "#46039f"
             ],
             [
              0.2222222222222222,
              "#7201a8"
             ],
             [
              0.3333333333333333,
              "#9c179e"
             ],
             [
              0.4444444444444444,
              "#bd3786"
             ],
             [
              0.5555555555555556,
              "#d8576b"
             ],
             [
              0.6666666666666666,
              "#ed7953"
             ],
             [
              0.7777777777777778,
              "#fb9f3a"
             ],
             [
              0.8888888888888888,
              "#fdca26"
             ],
             [
              1,
              "#f0f921"
             ]
            ],
            "type": "heatmap"
           }
          ],
          "histogram": [
           {
            "marker": {
             "pattern": {
              "fillmode": "overlay",
              "size": 10,
              "solidity": 0.2
             }
            },
            "type": "histogram"
           }
          ],
          "histogram2d": [
           {
            "colorbar": {
             "outlinewidth": 0,
             "ticks": ""
            },
            "colorscale": [
             [
              0,
              "#0d0887"
             ],
             [
              0.1111111111111111,
              "#46039f"
             ],
             [
              0.2222222222222222,
              "#7201a8"
             ],
             [
              0.3333333333333333,
              "#9c179e"
             ],
             [
              0.4444444444444444,
              "#bd3786"
             ],
             [
              0.5555555555555556,
              "#d8576b"
             ],
             [
              0.6666666666666666,
              "#ed7953"
             ],
             [
              0.7777777777777778,
              "#fb9f3a"
             ],
             [
              0.8888888888888888,
              "#fdca26"
             ],
             [
              1,
              "#f0f921"
             ]
            ],
            "type": "histogram2d"
           }
          ],
          "histogram2dcontour": [
           {
            "colorbar": {
             "outlinewidth": 0,
             "ticks": ""
            },
            "colorscale": [
             [
              0,
              "#0d0887"
             ],
             [
              0.1111111111111111,
              "#46039f"
             ],
             [
              0.2222222222222222,
              "#7201a8"
             ],
             [
              0.3333333333333333,
              "#9c179e"
             ],
             [
              0.4444444444444444,
              "#bd3786"
             ],
             [
              0.5555555555555556,
              "#d8576b"
             ],
             [
              0.6666666666666666,
              "#ed7953"
             ],
             [
              0.7777777777777778,
              "#fb9f3a"
             ],
             [
              0.8888888888888888,
              "#fdca26"
             ],
             [
              1,
              "#f0f921"
             ]
            ],
            "type": "histogram2dcontour"
           }
          ],
          "mesh3d": [
           {
            "colorbar": {
             "outlinewidth": 0,
             "ticks": ""
            },
            "type": "mesh3d"
           }
          ],
          "parcoords": [
           {
            "line": {
             "colorbar": {
              "outlinewidth": 0,
              "ticks": ""
             }
            },
            "type": "parcoords"
           }
          ],
          "pie": [
           {
            "automargin": true,
            "type": "pie"
           }
          ],
          "scatter": [
           {
            "marker": {
             "line": {
              "color": "#283442"
             }
            },
            "type": "scatter"
           }
          ],
          "scatter3d": [
           {
            "line": {
             "colorbar": {
              "outlinewidth": 0,
              "ticks": ""
             }
            },
            "marker": {
             "colorbar": {
              "outlinewidth": 0,
              "ticks": ""
             }
            },
            "type": "scatter3d"
           }
          ],
          "scattercarpet": [
           {
            "marker": {
             "colorbar": {
              "outlinewidth": 0,
              "ticks": ""
             }
            },
            "type": "scattercarpet"
           }
          ],
          "scattergeo": [
           {
            "marker": {
             "colorbar": {
              "outlinewidth": 0,
              "ticks": ""
             }
            },
            "type": "scattergeo"
           }
          ],
          "scattergl": [
           {
            "marker": {
             "line": {
              "color": "#283442"
             }
            },
            "type": "scattergl"
           }
          ],
          "scattermap": [
           {
            "marker": {
             "colorbar": {
              "outlinewidth": 0,
              "ticks": ""
             }
            },
            "type": "scattermap"
           }
          ],
          "scattermapbox": [
           {
            "marker": {
             "colorbar": {
              "outlinewidth": 0,
              "ticks": ""
             }
            },
            "type": "scattermapbox"
           }
          ],
          "scatterpolar": [
           {
            "marker": {
             "colorbar": {
              "outlinewidth": 0,
              "ticks": ""
             }
            },
            "type": "scatterpolar"
           }
          ],
          "scatterpolargl": [
           {
            "marker": {
             "colorbar": {
              "outlinewidth": 0,
              "ticks": ""
             }
            },
            "type": "scatterpolargl"
           }
          ],
          "scatterternary": [
           {
            "marker": {
             "colorbar": {
              "outlinewidth": 0,
              "ticks": ""
             }
            },
            "type": "scatterternary"
           }
          ],
          "surface": [
           {
            "colorbar": {
             "outlinewidth": 0,
             "ticks": ""
            },
            "colorscale": [
             [
              0,
              "#0d0887"
             ],
             [
              0.1111111111111111,
              "#46039f"
             ],
             [
              0.2222222222222222,
              "#7201a8"
             ],
             [
              0.3333333333333333,
              "#9c179e"
             ],
             [
              0.4444444444444444,
              "#bd3786"
             ],
             [
              0.5555555555555556,
              "#d8576b"
             ],
             [
              0.6666666666666666,
              "#ed7953"
             ],
             [
              0.7777777777777778,
              "#fb9f3a"
             ],
             [
              0.8888888888888888,
              "#fdca26"
             ],
             [
              1,
              "#f0f921"
             ]
            ],
            "type": "surface"
           }
          ],
          "table": [
           {
            "cells": {
             "fill": {
              "color": "#506784"
             },
             "line": {
              "color": "rgb(17,17,17)"
             }
            },
            "header": {
             "fill": {
              "color": "#2a3f5f"
             },
             "line": {
              "color": "rgb(17,17,17)"
             }
            },
            "type": "table"
           }
          ]
         },
         "layout": {
          "annotationdefaults": {
           "arrowcolor": "#f2f5fa",
           "arrowhead": 0,
           "arrowwidth": 1
          },
          "autotypenumbers": "strict",
          "coloraxis": {
           "colorbar": {
            "outlinewidth": 0,
            "ticks": ""
           }
          },
          "colorscale": {
           "diverging": [
            [
             0,
             "#8e0152"
            ],
            [
             0.1,
             "#c51b7d"
            ],
            [
             0.2,
             "#de77ae"
            ],
            [
             0.3,
             "#f1b6da"
            ],
            [
             0.4,
             "#fde0ef"
            ],
            [
             0.5,
             "#f7f7f7"
            ],
            [
             0.6,
             "#e6f5d0"
            ],
            [
             0.7,
             "#b8e186"
            ],
            [
             0.8,
             "#7fbc41"
            ],
            [
             0.9,
             "#4d9221"
            ],
            [
             1,
             "#276419"
            ]
           ],
           "sequential": [
            [
             0,
             "#0d0887"
            ],
            [
             0.1111111111111111,
             "#46039f"
            ],
            [
             0.2222222222222222,
             "#7201a8"
            ],
            [
             0.3333333333333333,
             "#9c179e"
            ],
            [
             0.4444444444444444,
             "#bd3786"
            ],
            [
             0.5555555555555556,
             "#d8576b"
            ],
            [
             0.6666666666666666,
             "#ed7953"
            ],
            [
             0.7777777777777778,
             "#fb9f3a"
            ],
            [
             0.8888888888888888,
             "#fdca26"
            ],
            [
             1,
             "#f0f921"
            ]
           ],
           "sequentialminus": [
            [
             0,
             "#0d0887"
            ],
            [
             0.1111111111111111,
             "#46039f"
            ],
            [
             0.2222222222222222,
             "#7201a8"
            ],
            [
             0.3333333333333333,
             "#9c179e"
            ],
            [
             0.4444444444444444,
             "#bd3786"
            ],
            [
             0.5555555555555556,
             "#d8576b"
            ],
            [
             0.6666666666666666,
             "#ed7953"
            ],
            [
             0.7777777777777778,
             "#fb9f3a"
            ],
            [
             0.8888888888888888,
             "#fdca26"
            ],
            [
             1,
             "#f0f921"
            ]
           ]
          },
          "colorway": [
           "#636efa",
           "#EF553B",
           "#00cc96",
           "#ab63fa",
           "#FFA15A",
           "#19d3f3",
           "#FF6692",
           "#B6E880",
           "#FF97FF",
           "#FECB52"
          ],
          "font": {
           "color": "#f2f5fa"
          },
          "geo": {
           "bgcolor": "rgb(17,17,17)",
           "lakecolor": "rgb(17,17,17)",
           "landcolor": "rgb(17,17,17)",
           "showlakes": true,
           "showland": true,
           "subunitcolor": "#506784"
          },
          "hoverlabel": {
           "align": "left"
          },
          "hovermode": "closest",
          "mapbox": {
           "style": "dark"
          },
          "paper_bgcolor": "rgb(17,17,17)",
          "plot_bgcolor": "rgb(17,17,17)",
          "polar": {
           "angularaxis": {
            "gridcolor": "#506784",
            "linecolor": "#506784",
            "ticks": ""
           },
           "bgcolor": "rgb(17,17,17)",
           "radialaxis": {
            "gridcolor": "#506784",
            "linecolor": "#506784",
            "ticks": ""
           }
          },
          "scene": {
           "xaxis": {
            "backgroundcolor": "rgb(17,17,17)",
            "gridcolor": "#506784",
            "gridwidth": 2,
            "linecolor": "#506784",
            "showbackground": true,
            "ticks": "",
            "zerolinecolor": "#C8D4E3"
           },
           "yaxis": {
            "backgroundcolor": "rgb(17,17,17)",
            "gridcolor": "#506784",
            "gridwidth": 2,
            "linecolor": "#506784",
            "showbackground": true,
            "ticks": "",
            "zerolinecolor": "#C8D4E3"
           },
           "zaxis": {
            "backgroundcolor": "rgb(17,17,17)",
            "gridcolor": "#506784",
            "gridwidth": 2,
            "linecolor": "#506784",
            "showbackground": true,
            "ticks": "",
            "zerolinecolor": "#C8D4E3"
           }
          },
          "shapedefaults": {
           "line": {
            "color": "#f2f5fa"
           }
          },
          "sliderdefaults": {
           "bgcolor": "#C8D4E3",
           "bordercolor": "rgb(17,17,17)",
           "borderwidth": 1,
           "tickwidth": 0
          },
          "ternary": {
           "aaxis": {
            "gridcolor": "#506784",
            "linecolor": "#506784",
            "ticks": ""
           },
           "baxis": {
            "gridcolor": "#506784",
            "linecolor": "#506784",
            "ticks": ""
           },
           "bgcolor": "rgb(17,17,17)",
           "caxis": {
            "gridcolor": "#506784",
            "linecolor": "#506784",
            "ticks": ""
           }
          },
          "title": {
           "x": 0.05
          },
          "updatemenudefaults": {
           "bgcolor": "#506784",
           "borderwidth": 0
          },
          "xaxis": {
           "automargin": true,
           "gridcolor": "#283442",
           "linecolor": "#506784",
           "ticks": "",
           "title": {
            "standoff": 15
           },
           "zerolinecolor": "#283442",
           "zerolinewidth": 2
          },
          "yaxis": {
           "automargin": true,
           "gridcolor": "#283442",
           "linecolor": "#506784",
           "ticks": "",
           "title": {
            "standoff": 15
           },
           "zerolinecolor": "#283442",
           "zerolinewidth": 2
          }
         }
        },
        "title": {
         "text": "Economy (GDP per Capita) vs Happiness Score"
        },
        "xaxis": {
         "anchor": "y",
         "domain": [
          0,
          1
         ],
         "title": {
          "text": "Economy (GDP per Capita)"
         }
        },
        "yaxis": {
         "anchor": "x",
         "domain": [
          0,
          1
         ],
         "title": {
          "text": "Happiness Score"
         }
        }
       }
      }
     },
     "metadata": {},
     "output_type": "display_data"
    }
   ],
   "source": [
    "fig1 = px.scatter(df, x = 'Economy (GDP per Capita)', y = 'Happiness Score', color = 'Region', hover_name = 'Region', title = 'Economy (GDP per Capita) vs Happiness Score')\n",
    "fig1.show()"
   ]
  },
  {
   "cell_type": "code",
   "execution_count": 14,
   "metadata": {},
   "outputs": [
    {
     "data": {
      "application/vnd.plotly.v1+json": {
       "config": {
        "plotlyServerURL": "https://plot.ly"
       },
       "data": [
        {
         "hole": 0.3,
         "labels": [
          "Western Europe",
          "Western Europe",
          "Western Europe",
          "Western Europe",
          "Western Europe",
          "North America",
          "Western Europe",
          "Australia and New Zealand",
          "Australia and New Zealand",
          "Western Europe",
          "Middle East and Northern Africa",
          "Western Europe",
          "North America",
          "Latin America and Caribbean",
          "Latin America and Caribbean",
          "Western Europe",
          "Latin America and Caribbean",
          "Western Europe",
          "Western Europe",
          "Western Europe",
          "Latin America and Caribbean",
          "Southeastern Asia",
          "Western Europe",
          "Latin America and Caribbean",
          "Latin America and Caribbean",
          "Latin America and Caribbean",
          "Central and Eastern Europe",
          "Middle East and Northern Africa",
          "Latin America and Caribbean",
          "Western Europe",
          "Latin America and Caribbean",
          "Western Europe",
          "Southeastern Asia",
          "Middle East and Northern Africa",
          "Eastern Asia",
          "Middle East and Northern Africa",
          "Western Europe",
          "Middle East and Northern Africa",
          "Latin America and Caribbean",
          "Latin America and Caribbean",
          "Middle East and Northern Africa",
          "Middle East and Northern Africa",
          "Latin America and Caribbean",
          "Latin America and Caribbean",
          "Central and Eastern Europe",
          "Latin America and Caribbean",
          "Southeastern Asia",
          "Latin America and Caribbean",
          "Central and Eastern Europe",
          "Western Europe",
          "Latin America and Caribbean",
          "Latin America and Caribbean",
          "Eastern Asia",
          "Central and Eastern Europe",
          "Central and Eastern Europe",
          "Central and Eastern Europe",
          "Central and Eastern Europe",
          "Eastern Asia",
          "Latin America and Caribbean",
          "Central and Eastern Europe",
          "Central and Eastern Europe",
          "Western Europe",
          "Central and Eastern Europe",
          "Latin America and Caribbean",
          "Central and Eastern Europe",
          "Sub-Saharan Africa",
          "Middle East and Northern Africa",
          "Central and Eastern Europe",
          "Western Europe",
          "Latin America and Caribbean",
          "Central and Eastern Europe",
          "Central and Eastern Europe",
          "Latin America and Caribbean",
          "Central and Eastern Europe",
          "Eastern Asia",
          "Sub-Saharan Africa",
          "Central and Eastern Europe",
          "Middle East and Northern Africa",
          "Southeastern Asia",
          "Middle East and Northern Africa",
          "Central and Eastern Europe",
          "Southeastern Asia",
          "Eastern Asia",
          "Southern Asia",
          "Central and Eastern Europe",
          "Central and Eastern Europe",
          "Central and Eastern Europe",
          "Central and Eastern Europe",
          "Latin America and Caribbean",
          "Middle East and Northern Africa",
          "Central and Eastern Europe",
          "Southern Asia",
          "Middle East and Northern Africa",
          "Western Europe",
          "Central and Eastern Europe",
          "Southeastern Asia",
          "Sub-Saharan Africa",
          "Middle East and Northern Africa",
          "Western Europe",
          "Central and Eastern Europe",
          "Eastern Asia",
          "Southeastern Asia",
          "Sub-Saharan Africa",
          "Latin America and Caribbean",
          "Middle East and Northern Africa",
          "Sub-Saharan Africa",
          "Southern Asia",
          "Middle East and Northern Africa",
          "Central and Eastern Europe",
          "Southern Asia",
          "Sub-Saharan Africa",
          "Middle East and Northern Africa",
          "Sub-Saharan Africa",
          "Sub-Saharan Africa",
          "Sub-Saharan Africa",
          "Sub-Saharan Africa",
          "Southern Asia",
          "Southern Asia",
          "Southeastern Asia",
          "Middle East and Northern Africa",
          "Central and Eastern Europe",
          "Sub-Saharan Africa",
          "Central and Eastern Europe",
          "Sub-Saharan Africa",
          "Sub-Saharan Africa",
          "Central and Eastern Europe",
          "Sub-Saharan Africa",
          "Sub-Saharan Africa",
          "Central and Eastern Europe",
          "Sub-Saharan Africa",
          "Sub-Saharan Africa",
          "Sub-Saharan Africa",
          "Sub-Saharan Africa",
          "Sub-Saharan Africa",
          "Sub-Saharan Africa",
          "Latin America and Caribbean",
          "Sub-Saharan Africa",
          "Sub-Saharan Africa",
          "Sub-Saharan Africa",
          "Southeastern Asia",
          "Sub-Saharan Africa",
          "Sub-Saharan Africa",
          "Sub-Saharan Africa",
          "Sub-Saharan Africa",
          "Sub-Saharan Africa",
          "Sub-Saharan Africa",
          "Middle East and Northern Africa",
          "Sub-Saharan Africa",
          "Sub-Saharan Africa",
          "Sub-Saharan Africa",
          "Sub-Saharan Africa",
          "Sub-Saharan Africa",
          "Sub-Saharan Africa",
          "Southern Asia",
          "Sub-Saharan Africa",
          "Middle East and Northern Africa",
          "Sub-Saharan Africa"
         ],
         "type": "pie",
         "values": {
          "bdata": "tMh2vp8aHkDwp8ZLNwkeQBsv3SQGAR5Ay6FFtvP9HUD0/dR46aYdQARWDi2ynR1AQmDl0CJbHUC8dJMYBFYdQI2XbhKDQB1ARIts5/spHUDFILByaBEdQGDl0CLbeRxA0SLb+X5qHEAMAiuHFlkcQA4tsp3vJxxAYOXQItv5G0ACK4cW2c4bQJ7vp8ZLtxtAVOOlm8SgG0CWQ4ts53sbQOkmMQisHBtA2/l+arz0GkBmZmZmZuYaQFK4HoXr0RpA5/up8dLNGkCamZmZmZkaQPyp8dJNYhpAmG4Sg8BKGkCuR+F6FC4aQMHKoUW28xlABoGVQ4vsGUC28/3UeOkZQEw3iUFg5RlAarx0kxiEGUBqvHSTGIQZQAAAAAAAgBlAi2zn+6lxGUDsUbgehWsZQLKd76fGSxlA+n5qvHQTGUDb+X5qvPQYQKwcWmQ73xhAeekmMQisGEC8dJMYBFYYQB1aZDvfTxhAEoPAyqFFGECF61G4HgUYQCuHFtnO9xdAppvEILDyF0CcxCCwcugXQIGVQ4ts5xdAbef7qfHSF0DJdr6fGq8XQJMYBFYOrRdASgwCK4eWF0AGgZVDi2wXQNejcD0KVxdA16NwPQpXF0B9PzVeukkXQI2XbhKDQBdAaJHtfD81F0Av3SQGgRUXQN9PjZduEhdARrbz/dT4FkBvEoPAyqEWQGQ730+NlxZA9ihcj8J1FkA9CtejcD0WQMl2vp8aLxZA9P3UeOkmFkDpJjEIrBwWQMUgsHJoERZACtejcD0KFkDByqFFtvMVQKJFtvP91BVAw/UoXI/CFUC0yHa+n5oVQHWTGARWjhVAqMZLN4lBFUCDwMqhRTYVQESLbOf7KRVABFYOLbIdFUB7FK5H4foUQGIQWDm0yBRAPQrXo3C9FEBoke18P7UUQPT91HjpphRAvp8aL92kFEAfhetRuJ4UQLTIdr6fmhRAFK5H4XqUFEC6SQwCK4cUQGq8dJMYhBRAy6FFtvN9FECWQ4ts53sUQFg5tMh2PhRA7nw/NV46FECuR+F6FC4UQG8Sg8DKIRRAlkOLbOf7E0BU46WbxKATQBsv3SQGgRNAAAAAAACAE0CWQ4ts53sTQI2XbhKDQBNArkfhehQuE0B56SYxCCwTQGq8dJMYBBNAH4XrUbieEkDfT42XbpISQArXo3A9ihJAzczMzMxMEkCyne+nxksSQFpkO99PDRJA1XjpJjEIEkC8dJMYBNYRQClcj8L1qBFABFYOLbKdEUAUrkfhepQRQKabxCCwchFAcT0K16NwEUAGgZVDi2wRQLKd76fGSxFAtMh2vp8aEUBKDAIrhxYRQDVeukkMAhFAi2zn+6nxEEDHSzeJQeAQQJHtfD813hBA5/up8dLNEEASg8DKocUQQDm0yHa+nxBAdZMYBFaOEECWQ4ts53sQQJhuEoPAShBA6SYxCKwcEECYbhKDwMoPQNnO91PjpQ9AhxbZzvdTD0Coxks3iUEPQCGwcmiR7Q5ADAIrhxbZDkAOLbKd76cOQLTIdr6fGg5AtvP91HjpDUC28/3UeOkNQJhuEoPAyg1Aj8L1KFyPDUCHFtnO91MNQGDl0CLb+QxAQmDl0CLbDEAfhetRuB4MQKwcWmQ73wtA4XoUrkfhCkAGgZVDi2wKQFpkO99PjQhAPQrXo3A9B0A=",
          "dtype": "f8"
         }
        }
       ],
       "layout": {
        "template": {
         "data": {
          "bar": [
           {
            "error_x": {
             "color": "#f2f5fa"
            },
            "error_y": {
             "color": "#f2f5fa"
            },
            "marker": {
             "line": {
              "color": "rgb(17,17,17)",
              "width": 0.5
             },
             "pattern": {
              "fillmode": "overlay",
              "size": 10,
              "solidity": 0.2
             }
            },
            "type": "bar"
           }
          ],
          "barpolar": [
           {
            "marker": {
             "line": {
              "color": "rgb(17,17,17)",
              "width": 0.5
             },
             "pattern": {
              "fillmode": "overlay",
              "size": 10,
              "solidity": 0.2
             }
            },
            "type": "barpolar"
           }
          ],
          "carpet": [
           {
            "aaxis": {
             "endlinecolor": "#A2B1C6",
             "gridcolor": "#506784",
             "linecolor": "#506784",
             "minorgridcolor": "#506784",
             "startlinecolor": "#A2B1C6"
            },
            "baxis": {
             "endlinecolor": "#A2B1C6",
             "gridcolor": "#506784",
             "linecolor": "#506784",
             "minorgridcolor": "#506784",
             "startlinecolor": "#A2B1C6"
            },
            "type": "carpet"
           }
          ],
          "choropleth": [
           {
            "colorbar": {
             "outlinewidth": 0,
             "ticks": ""
            },
            "type": "choropleth"
           }
          ],
          "contour": [
           {
            "colorbar": {
             "outlinewidth": 0,
             "ticks": ""
            },
            "colorscale": [
             [
              0,
              "#0d0887"
             ],
             [
              0.1111111111111111,
              "#46039f"
             ],
             [
              0.2222222222222222,
              "#7201a8"
             ],
             [
              0.3333333333333333,
              "#9c179e"
             ],
             [
              0.4444444444444444,
              "#bd3786"
             ],
             [
              0.5555555555555556,
              "#d8576b"
             ],
             [
              0.6666666666666666,
              "#ed7953"
             ],
             [
              0.7777777777777778,
              "#fb9f3a"
             ],
             [
              0.8888888888888888,
              "#fdca26"
             ],
             [
              1,
              "#f0f921"
             ]
            ],
            "type": "contour"
           }
          ],
          "contourcarpet": [
           {
            "colorbar": {
             "outlinewidth": 0,
             "ticks": ""
            },
            "type": "contourcarpet"
           }
          ],
          "heatmap": [
           {
            "colorbar": {
             "outlinewidth": 0,
             "ticks": ""
            },
            "colorscale": [
             [
              0,
              "#0d0887"
             ],
             [
              0.1111111111111111,
              "#46039f"
             ],
             [
              0.2222222222222222,
              "#7201a8"
             ],
             [
              0.3333333333333333,
              "#9c179e"
             ],
             [
              0.4444444444444444,
              "#bd3786"
             ],
             [
              0.5555555555555556,
              "#d8576b"
             ],
             [
              0.6666666666666666,
              "#ed7953"
             ],
             [
              0.7777777777777778,
              "#fb9f3a"
             ],
             [
              0.8888888888888888,
              "#fdca26"
             ],
             [
              1,
              "#f0f921"
             ]
            ],
            "type": "heatmap"
           }
          ],
          "histogram": [
           {
            "marker": {
             "pattern": {
              "fillmode": "overlay",
              "size": 10,
              "solidity": 0.2
             }
            },
            "type": "histogram"
           }
          ],
          "histogram2d": [
           {
            "colorbar": {
             "outlinewidth": 0,
             "ticks": ""
            },
            "colorscale": [
             [
              0,
              "#0d0887"
             ],
             [
              0.1111111111111111,
              "#46039f"
             ],
             [
              0.2222222222222222,
              "#7201a8"
             ],
             [
              0.3333333333333333,
              "#9c179e"
             ],
             [
              0.4444444444444444,
              "#bd3786"
             ],
             [
              0.5555555555555556,
              "#d8576b"
             ],
             [
              0.6666666666666666,
              "#ed7953"
             ],
             [
              0.7777777777777778,
              "#fb9f3a"
             ],
             [
              0.8888888888888888,
              "#fdca26"
             ],
             [
              1,
              "#f0f921"
             ]
            ],
            "type": "histogram2d"
           }
          ],
          "histogram2dcontour": [
           {
            "colorbar": {
             "outlinewidth": 0,
             "ticks": ""
            },
            "colorscale": [
             [
              0,
              "#0d0887"
             ],
             [
              0.1111111111111111,
              "#46039f"
             ],
             [
              0.2222222222222222,
              "#7201a8"
             ],
             [
              0.3333333333333333,
              "#9c179e"
             ],
             [
              0.4444444444444444,
              "#bd3786"
             ],
             [
              0.5555555555555556,
              "#d8576b"
             ],
             [
              0.6666666666666666,
              "#ed7953"
             ],
             [
              0.7777777777777778,
              "#fb9f3a"
             ],
             [
              0.8888888888888888,
              "#fdca26"
             ],
             [
              1,
              "#f0f921"
             ]
            ],
            "type": "histogram2dcontour"
           }
          ],
          "mesh3d": [
           {
            "colorbar": {
             "outlinewidth": 0,
             "ticks": ""
            },
            "type": "mesh3d"
           }
          ],
          "parcoords": [
           {
            "line": {
             "colorbar": {
              "outlinewidth": 0,
              "ticks": ""
             }
            },
            "type": "parcoords"
           }
          ],
          "pie": [
           {
            "automargin": true,
            "type": "pie"
           }
          ],
          "scatter": [
           {
            "marker": {
             "line": {
              "color": "#283442"
             }
            },
            "type": "scatter"
           }
          ],
          "scatter3d": [
           {
            "line": {
             "colorbar": {
              "outlinewidth": 0,
              "ticks": ""
             }
            },
            "marker": {
             "colorbar": {
              "outlinewidth": 0,
              "ticks": ""
             }
            },
            "type": "scatter3d"
           }
          ],
          "scattercarpet": [
           {
            "marker": {
             "colorbar": {
              "outlinewidth": 0,
              "ticks": ""
             }
            },
            "type": "scattercarpet"
           }
          ],
          "scattergeo": [
           {
            "marker": {
             "colorbar": {
              "outlinewidth": 0,
              "ticks": ""
             }
            },
            "type": "scattergeo"
           }
          ],
          "scattergl": [
           {
            "marker": {
             "line": {
              "color": "#283442"
             }
            },
            "type": "scattergl"
           }
          ],
          "scattermap": [
           {
            "marker": {
             "colorbar": {
              "outlinewidth": 0,
              "ticks": ""
             }
            },
            "type": "scattermap"
           }
          ],
          "scattermapbox": [
           {
            "marker": {
             "colorbar": {
              "outlinewidth": 0,
              "ticks": ""
             }
            },
            "type": "scattermapbox"
           }
          ],
          "scatterpolar": [
           {
            "marker": {
             "colorbar": {
              "outlinewidth": 0,
              "ticks": ""
             }
            },
            "type": "scatterpolar"
           }
          ],
          "scatterpolargl": [
           {
            "marker": {
             "colorbar": {
              "outlinewidth": 0,
              "ticks": ""
             }
            },
            "type": "scatterpolargl"
           }
          ],
          "scatterternary": [
           {
            "marker": {
             "colorbar": {
              "outlinewidth": 0,
              "ticks": ""
             }
            },
            "type": "scatterternary"
           }
          ],
          "surface": [
           {
            "colorbar": {
             "outlinewidth": 0,
             "ticks": ""
            },
            "colorscale": [
             [
              0,
              "#0d0887"
             ],
             [
              0.1111111111111111,
              "#46039f"
             ],
             [
              0.2222222222222222,
              "#7201a8"
             ],
             [
              0.3333333333333333,
              "#9c179e"
             ],
             [
              0.4444444444444444,
              "#bd3786"
             ],
             [
              0.5555555555555556,
              "#d8576b"
             ],
             [
              0.6666666666666666,
              "#ed7953"
             ],
             [
              0.7777777777777778,
              "#fb9f3a"
             ],
             [
              0.8888888888888888,
              "#fdca26"
             ],
             [
              1,
              "#f0f921"
             ]
            ],
            "type": "surface"
           }
          ],
          "table": [
           {
            "cells": {
             "fill": {
              "color": "#506784"
             },
             "line": {
              "color": "rgb(17,17,17)"
             }
            },
            "header": {
             "fill": {
              "color": "#2a3f5f"
             },
             "line": {
              "color": "rgb(17,17,17)"
             }
            },
            "type": "table"
           }
          ]
         },
         "layout": {
          "annotationdefaults": {
           "arrowcolor": "#f2f5fa",
           "arrowhead": 0,
           "arrowwidth": 1
          },
          "autotypenumbers": "strict",
          "coloraxis": {
           "colorbar": {
            "outlinewidth": 0,
            "ticks": ""
           }
          },
          "colorscale": {
           "diverging": [
            [
             0,
             "#8e0152"
            ],
            [
             0.1,
             "#c51b7d"
            ],
            [
             0.2,
             "#de77ae"
            ],
            [
             0.3,
             "#f1b6da"
            ],
            [
             0.4,
             "#fde0ef"
            ],
            [
             0.5,
             "#f7f7f7"
            ],
            [
             0.6,
             "#e6f5d0"
            ],
            [
             0.7,
             "#b8e186"
            ],
            [
             0.8,
             "#7fbc41"
            ],
            [
             0.9,
             "#4d9221"
            ],
            [
             1,
             "#276419"
            ]
           ],
           "sequential": [
            [
             0,
             "#0d0887"
            ],
            [
             0.1111111111111111,
             "#46039f"
            ],
            [
             0.2222222222222222,
             "#7201a8"
            ],
            [
             0.3333333333333333,
             "#9c179e"
            ],
            [
             0.4444444444444444,
             "#bd3786"
            ],
            [
             0.5555555555555556,
             "#d8576b"
            ],
            [
             0.6666666666666666,
             "#ed7953"
            ],
            [
             0.7777777777777778,
             "#fb9f3a"
            ],
            [
             0.8888888888888888,
             "#fdca26"
            ],
            [
             1,
             "#f0f921"
            ]
           ],
           "sequentialminus": [
            [
             0,
             "#0d0887"
            ],
            [
             0.1111111111111111,
             "#46039f"
            ],
            [
             0.2222222222222222,
             "#7201a8"
            ],
            [
             0.3333333333333333,
             "#9c179e"
            ],
            [
             0.4444444444444444,
             "#bd3786"
            ],
            [
             0.5555555555555556,
             "#d8576b"
            ],
            [
             0.6666666666666666,
             "#ed7953"
            ],
            [
             0.7777777777777778,
             "#fb9f3a"
            ],
            [
             0.8888888888888888,
             "#fdca26"
            ],
            [
             1,
             "#f0f921"
            ]
           ]
          },
          "colorway": [
           "#636efa",
           "#EF553B",
           "#00cc96",
           "#ab63fa",
           "#FFA15A",
           "#19d3f3",
           "#FF6692",
           "#B6E880",
           "#FF97FF",
           "#FECB52"
          ],
          "font": {
           "color": "#f2f5fa"
          },
          "geo": {
           "bgcolor": "rgb(17,17,17)",
           "lakecolor": "rgb(17,17,17)",
           "landcolor": "rgb(17,17,17)",
           "showlakes": true,
           "showland": true,
           "subunitcolor": "#506784"
          },
          "hoverlabel": {
           "align": "left"
          },
          "hovermode": "closest",
          "mapbox": {
           "style": "dark"
          },
          "paper_bgcolor": "rgb(17,17,17)",
          "plot_bgcolor": "rgb(17,17,17)",
          "polar": {
           "angularaxis": {
            "gridcolor": "#506784",
            "linecolor": "#506784",
            "ticks": ""
           },
           "bgcolor": "rgb(17,17,17)",
           "radialaxis": {
            "gridcolor": "#506784",
            "linecolor": "#506784",
            "ticks": ""
           }
          },
          "scene": {
           "xaxis": {
            "backgroundcolor": "rgb(17,17,17)",
            "gridcolor": "#506784",
            "gridwidth": 2,
            "linecolor": "#506784",
            "showbackground": true,
            "ticks": "",
            "zerolinecolor": "#C8D4E3"
           },
           "yaxis": {
            "backgroundcolor": "rgb(17,17,17)",
            "gridcolor": "#506784",
            "gridwidth": 2,
            "linecolor": "#506784",
            "showbackground": true,
            "ticks": "",
            "zerolinecolor": "#C8D4E3"
           },
           "zaxis": {
            "backgroundcolor": "rgb(17,17,17)",
            "gridcolor": "#506784",
            "gridwidth": 2,
            "linecolor": "#506784",
            "showbackground": true,
            "ticks": "",
            "zerolinecolor": "#C8D4E3"
           }
          },
          "shapedefaults": {
           "line": {
            "color": "#f2f5fa"
           }
          },
          "sliderdefaults": {
           "bgcolor": "#C8D4E3",
           "bordercolor": "rgb(17,17,17)",
           "borderwidth": 1,
           "tickwidth": 0
          },
          "ternary": {
           "aaxis": {
            "gridcolor": "#506784",
            "linecolor": "#506784",
            "ticks": ""
           },
           "baxis": {
            "gridcolor": "#506784",
            "linecolor": "#506784",
            "ticks": ""
           },
           "bgcolor": "rgb(17,17,17)",
           "caxis": {
            "gridcolor": "#506784",
            "linecolor": "#506784",
            "ticks": ""
           }
          },
          "title": {
           "x": 0.05
          },
          "updatemenudefaults": {
           "bgcolor": "#506784",
           "borderwidth": 0
          },
          "xaxis": {
           "automargin": true,
           "gridcolor": "#283442",
           "linecolor": "#506784",
           "ticks": "",
           "title": {
            "standoff": 15
           },
           "zerolinecolor": "#283442",
           "zerolinewidth": 2
          },
          "yaxis": {
           "automargin": true,
           "gridcolor": "#283442",
           "linecolor": "#506784",
           "ticks": "",
           "title": {
            "standoff": 15
           },
           "zerolinecolor": "#283442",
           "zerolinewidth": 2
          }
         }
        },
        "title": {
         "text": "Happiness Score by region"
        }
       }
      }
     },
     "metadata": {},
     "output_type": "display_data"
    }
   ],
   "source": [
    "fig2 = go.Figure()\n",
    "fig2.add_trace(go.Pie(labels = df['Region'], values = df['Happiness Score'], hole = 0.3))\n",
    "fig2.update_layout(title = 'Happiness Score by region')\n",
    "fig2.show()"
   ]
  },
  {
   "cell_type": "code",
   "execution_count": 15,
   "metadata": {},
   "outputs": [
    {
     "data": {
      "application/vnd.plotly.v1+json": {
       "config": {
        "plotlyServerURL": "https://plot.ly"
       },
       "data": [
        {
         "coloraxis": "coloraxis",
         "geo": "geo",
         "hovertemplate": "<b>%{hovertext}</b><br><br>Country=%{location}<br>Economy (GDP per Capita)=%{z}<extra></extra>",
         "hovertext": {
          "bdata": "/mDgufdw6T+u8C4X8Z3rP6neGtgqwes/nnsPlxx36T/C+j+H+fLpP11txf6ye+o/H9eGinH+6T/XFwltOZfqP8xdS8gHPes/DHbDtkWZ6j940VeQZizrP4C3QILix+k/IbByaJHt6D8EyqZc4V3oP/3BwHPv4eg/iLoPQGoT6j8s1JrmHafjP9IdxM4UOuo/G55eKcsQ6j9ZTGw+rg3rP8CV7NgIxOY/yCQjZ2FP7j/tgVZgyOrpP0563/jaM+o/JuSDns2q5j+t3XahuU7mP1TGv8+4cOg/JNHLKJZb5z+asWg6OxnnP2wJ+aBns+k/SNxj6UMX4z/G3LWEfNDqP0tZhjjWxeQ/EEBqEyf34j8u/yH99nXpP/q4NlSM8+Y/xr/PuHAg7D+71XPS+8bjP+27IvjfSuE/zeSbbW5M4D+dnQyOklfkPxL3WPrQBeU/vYxiuaXV4D+QTl35LM/jP2qkpfJ2hOY/30+Nl24S4z/3WPrQBfXjPwOy17s/3uQ/zCiWW1oN4D/PvYdLjjvrP02+2ebG9OU/tU/HYwYq3T9JERlW8UbtPyJxj6UPXeI/IqtbPSe94D/jqrLviuDiP5qxaDo7GeY/IEHxY8xd7D/ImLuWkA/ePzV7oBUYsuQ/jPhOzHox5D8Facai6ezqP2ufjscMVOk/1SZO7nco5D/SxhFr8SncPwOV8e8zLuU/sP7PYb684D/XaaSl8nbkP5oIG55eKes/nYAmwoan4j81JO6x9KHlP9Fcp5GWyuU/gUOoUrMH4z/hl/p5U5HmP3eE04IXfe4/0csolltavT9I4XoUrkfhP0sC1NSyteQ/04cuqG+Z3z+v6xfshm3jP/5g4Ln3cOE/Ci5W1GAa3j+1iZP7HYrnP9RDNLqD2N8/dbD+z2G+4T+1N/jCZKrkP9r+lZUmpeY/ol2FlJ9U5D+HxD2WPnTiP0dVE0TdB+M/ilkvhnKi5T9A2ZQrvMvZPzkoYabtX+g/vfvjvWpl6T8PtAJDVrfkP5Z4QNmUK+U//wQXK2ow1T9xAz4/jBDjP1wbKsb5m+k/rMq+K4L/4D85Yi0+BcDhP1Lt0/GYgdg/npj1Yignqj/Jjo1AvK7iP5IiMqzijeQ/eNFXkGYszj/ZCMTr+gXgP6mfNxWpMOI/lE25wrtc5z8wR4/f2/TgPwAAAAAAAAAA1VsDWyVY4D9bsb/snjzWP41/n3HhQMA/qBjnb0Ih1j8YsrrVc9LHPw9iZwqd1+M/eR7cnbXb3D9nRGlv8IXZP693f7xXreA/NnaJ6q2B5D9eaK7TSEvTP22QSUbOwuI/dAzIXu/+0j+q8dJNYhDIP5LLf0i/feQ/kQpjC0EO0j+GVbyReeTZP205l+KqsuU/MbH5uDZU0j/RItv5fmrEP0IJM23/ytI/CHdn7bYL0z/NO07RkVzWP3hF8L+V7MQ/8S4X8Z2Y0T/LLa2GxD3WP3LhQEgWMNM/7YFWYMjqpj+KyLCKNzLbP6+ZfLPNjak/dbD+z2G+0D9Qqn06HjPEP/lOzHoxlKM/NLqD2JlCyz8fhetRuB7JPx75g4Hn3tM/Vdl3RfC/1z8MAiuHFtnWP7snDwu1ps0/tvgUAOMZyD+itDf4wmTUP19egH106so/F7zoK0gzxj9uwOeHEcLPP9UmTu53KOQ/gPEMGvonxD8=",
          "dtype": "f8"
         },
         "locationmode": "country names",
         "locations": [
          "Denmark",
          "Switzerland",
          "Iceland",
          "Norway",
          "Finland",
          "Canada",
          "Netherlands",
          "New Zealand",
          "Australia",
          "Sweden",
          "Israel",
          "Austria",
          "United States",
          "Costa Rica",
          "Puerto Rico",
          "Germany",
          "Brazil",
          "Belgium",
          "Ireland",
          "Luxembourg",
          "Mexico",
          "Singapore",
          "United Kingdom",
          "Chile",
          "Panama",
          "Argentina",
          "Czech Republic",
          "United Arab Emirates",
          "Uruguay",
          "Malta",
          "Colombia",
          "France",
          "Thailand",
          "Saudi Arabia",
          "Taiwan",
          "Qatar",
          "Spain",
          "Algeria",
          "Guatemala",
          "Suriname",
          "Kuwait",
          "Bahrain",
          "Trinidad and Tobago",
          "Venezuela",
          "Slovakia",
          "El Salvador",
          "Malaysia",
          "Nicaragua",
          "Uzbekistan",
          "Italy",
          "Ecuador",
          "Belize",
          "Japan",
          "Kazakhstan",
          "Moldova",
          "Russia",
          "Poland",
          "South Korea",
          "Bolivia",
          "Lithuania",
          "Belarus",
          "North Cyprus",
          "Slovenia",
          "Peru",
          "Turkmenistan",
          "Mauritius",
          "Libya",
          "Latvia",
          "Cyprus",
          "Paraguay",
          "Romania",
          "Estonia",
          "Jamaica",
          "Croatia",
          "Hong Kong",
          "Somalia",
          "Kosovo",
          "Turkey",
          "Indonesia",
          "Jordan",
          "Azerbaijan",
          "Philippines",
          "China",
          "Bhutan",
          "Kyrgyzstan",
          "Serbia",
          "Bosnia and Herzegovina",
          "Montenegro",
          "Dominican Republic",
          "Morocco",
          "Hungary",
          "Pakistan",
          "Lebanon",
          "Portugal",
          "Macedonia",
          "Vietnam",
          "Somaliland Region",
          "Tunisia",
          "Greece",
          "Tajikistan",
          "Mongolia",
          "Laos",
          "Nigeria",
          "Honduras",
          "Iran",
          "Zambia",
          "Nepal",
          "Palestinian Territories",
          "Albania",
          "Bangladesh",
          "Sierra Leone",
          "Iraq",
          "Namibia",
          "Cameroon",
          "Ethiopia",
          "South Africa",
          "Sri Lanka",
          "India",
          "Myanmar",
          "Egypt",
          "Armenia",
          "Kenya",
          "Ukraine",
          "Ghana",
          "Congo (Kinshasa)",
          "Georgia",
          "Congo (Brazzaville)",
          "Senegal",
          "Bulgaria",
          "Mauritania",
          "Zimbabwe",
          "Malawi",
          "Sudan",
          "Gabon",
          "Mali",
          "Haiti",
          "Botswana",
          "Comoros",
          "Ivory Coast",
          "Cambodia",
          "Angola",
          "Niger",
          "South Sudan",
          "Chad",
          "Burkina Faso",
          "Uganda",
          "Yemen",
          "Madagascar",
          "Tanzania",
          "Liberia",
          "Guinea",
          "Rwanda",
          "Benin",
          "Afghanistan",
          "Togo",
          "Syria",
          "Burundi"
         ],
         "name": "",
         "type": "choropleth",
         "z": {
          "bdata": "Gm7A54cR9z/kMQOV8W/4P4guqG+Z0/Y/k2+2uTE9+T8CSG3i5H72P7RZ9bnaCvc/Oq+xS1Rv9z8Tm49rQ8X1P87HtaFiHPc/mBdgH5069z+CrRIsDmf1PxRcrKjBNPc/jdE6qpog+D9gqwSLwxnxP3E486s5wPU/mMCtu3kq9z8teNFXkGbxPx+6oL5lzvY/I/PIHwy89z8M5US7Cin7P2XHRiBe1/E/wOyePCxU+j8ZkL3e/XH2P/KwUGuad/M/y0qTUtDt8j9Ah/nyAmzyPzXvOEVH8vQ/d6G5TiMt+T+d9L7xtefyPyLgEKrU7PQ/saIG0zB88D/9gt2wbVH2P1mGONbFbfE/95LGaB3V9z8IclDCTFv2P8cuUb01MP0/0GG+vAB79T/y6hwDstfwP9uF5jqNtOo/IqZEEr2M8T/k2lAxzt/5P7NBJhk5C/c/LnO6LCY29T8WTWcngyPyP31cGyrGefQ/hXzQs1n16z8S91j60AX0PzIDlfHvM+Y/W5TZIJOM5z92cRsN4K31P952oblOI+8/DAdCsoAJ7D8wDcNHxBT2P12Kq8q+q/M/UFPL1voi5j/zPLg7a7fzP6yL22gA7/M/qg65GW7A9T8niLoPQGrpP8pUwaikTvQ/nkFD/wQX8j+WW1oNifv0P0IhAg6hyvQ/cy7FVWXf7z/V7IFWYEjxP3h/vFetTPI/ixpMw/AR8T9cPSe9b3zzP5vJN9vcGPU/04cuqG+Z7D9lGeJYF7fyP3506spnefQ/SiTRyyiW7D8kfzDw3PvyP0ATYcPTK/g/AAAAAAAAAACbVZ+rrdjsPxZNZyeDo/I/yQImcOtu7j+FJR5QNuXvP5eL+E7M+vE/r1qZ8Ev96T/EQq1p3nHwPwyTqYJRSes/Atnr3R/v4T+Uap+Ox4zwP/3BwHPv4e0/U5EKYwtB8T/goSjQJ3LwP2d+NQcI5uo/6ZrJN9vc8z+hSs0eaAXmP/T4vU1/9vE/7YFWYMhq9D87AU2EDU/wP4wQHm0csec/Xb9gN2xb0D8v+grSjEXvP16FlJ9U+/M/NxrAWyBB3z8ZraOqCaLvPxJr8SkAxuU/4X8r2bER6D8rE36pnzfmP2+e6pCb4fE/9u6P96qV4z9W1GAaho/cP8ISDyibcuU/Ns07TtGR7j+Dhv4JLlbhP7aEfNCzWdc/pz/7kSIy8T+1bK0vEtrtPyMyrOKNzOA/WWlSCrq90j8X8Z2Y9WLwP4fhI2JKJO8/qYdodAex5z++vAD76NTVP0mdgCbChu4/6udNRSqM6z/SNZNvtrngP8oa9RCN7us/NpNvtrkx5D95zEBl/PusPxxClZo90Oo/eLmI78Ss6D8GKuPfZ1zcP6zFpwAYz/E/2v6VlSal4z8+P4wQHm3WPwgDz72HS7Y/dEF9y5wu5D9hbCHIQYnyP57qkJvhBtQ/GLK61XPS1T+nIhXGFoLxP5c5XRYTm9E/+rMfKSLD4T8lkuhlFMvhPz5cctwpHes/B/AWSFD8wD/1hCUeUDbZPxVXlX1XBNs/mbuWkA961D8q499nXDjWP18ktOVciuI/MiB7vfvj0T92cRsN4C3eP9Wytb5IaLs/xf6ye/KwzD+E04IXfQXVP4HPDyOER9k/nnsPlxx32D9y3CkdrP/RP2K+vAD76Oc/6WD9n8N8sT8=",
          "dtype": "f8"
         }
        }
       ],
       "layout": {
        "coloraxis": {
         "colorbar": {
          "title": {
           "text": "Economy (GDP per Capita)"
          }
         },
         "colorscale": [
          [
           0,
           "#0d0887"
          ],
          [
           0.1111111111111111,
           "#46039f"
          ],
          [
           0.2222222222222222,
           "#7201a8"
          ],
          [
           0.3333333333333333,
           "#9c179e"
          ],
          [
           0.4444444444444444,
           "#bd3786"
          ],
          [
           0.5555555555555556,
           "#d8576b"
          ],
          [
           0.6666666666666666,
           "#ed7953"
          ],
          [
           0.7777777777777778,
           "#fb9f3a"
          ],
          [
           0.8888888888888888,
           "#fdca26"
          ],
          [
           1,
           "#f0f921"
          ]
         ]
        },
        "geo": {
         "center": {},
         "domain": {
          "x": [
           0,
           1
          ],
          "y": [
           0,
           1
          ]
         }
        },
        "legend": {
         "tracegroupgap": 0
        },
        "template": {
         "data": {
          "bar": [
           {
            "error_x": {
             "color": "#f2f5fa"
            },
            "error_y": {
             "color": "#f2f5fa"
            },
            "marker": {
             "line": {
              "color": "rgb(17,17,17)",
              "width": 0.5
             },
             "pattern": {
              "fillmode": "overlay",
              "size": 10,
              "solidity": 0.2
             }
            },
            "type": "bar"
           }
          ],
          "barpolar": [
           {
            "marker": {
             "line": {
              "color": "rgb(17,17,17)",
              "width": 0.5
             },
             "pattern": {
              "fillmode": "overlay",
              "size": 10,
              "solidity": 0.2
             }
            },
            "type": "barpolar"
           }
          ],
          "carpet": [
           {
            "aaxis": {
             "endlinecolor": "#A2B1C6",
             "gridcolor": "#506784",
             "linecolor": "#506784",
             "minorgridcolor": "#506784",
             "startlinecolor": "#A2B1C6"
            },
            "baxis": {
             "endlinecolor": "#A2B1C6",
             "gridcolor": "#506784",
             "linecolor": "#506784",
             "minorgridcolor": "#506784",
             "startlinecolor": "#A2B1C6"
            },
            "type": "carpet"
           }
          ],
          "choropleth": [
           {
            "colorbar": {
             "outlinewidth": 0,
             "ticks": ""
            },
            "type": "choropleth"
           }
          ],
          "contour": [
           {
            "colorbar": {
             "outlinewidth": 0,
             "ticks": ""
            },
            "colorscale": [
             [
              0,
              "#0d0887"
             ],
             [
              0.1111111111111111,
              "#46039f"
             ],
             [
              0.2222222222222222,
              "#7201a8"
             ],
             [
              0.3333333333333333,
              "#9c179e"
             ],
             [
              0.4444444444444444,
              "#bd3786"
             ],
             [
              0.5555555555555556,
              "#d8576b"
             ],
             [
              0.6666666666666666,
              "#ed7953"
             ],
             [
              0.7777777777777778,
              "#fb9f3a"
             ],
             [
              0.8888888888888888,
              "#fdca26"
             ],
             [
              1,
              "#f0f921"
             ]
            ],
            "type": "contour"
           }
          ],
          "contourcarpet": [
           {
            "colorbar": {
             "outlinewidth": 0,
             "ticks": ""
            },
            "type": "contourcarpet"
           }
          ],
          "heatmap": [
           {
            "colorbar": {
             "outlinewidth": 0,
             "ticks": ""
            },
            "colorscale": [
             [
              0,
              "#0d0887"
             ],
             [
              0.1111111111111111,
              "#46039f"
             ],
             [
              0.2222222222222222,
              "#7201a8"
             ],
             [
              0.3333333333333333,
              "#9c179e"
             ],
             [
              0.4444444444444444,
              "#bd3786"
             ],
             [
              0.5555555555555556,
              "#d8576b"
             ],
             [
              0.6666666666666666,
              "#ed7953"
             ],
             [
              0.7777777777777778,
              "#fb9f3a"
             ],
             [
              0.8888888888888888,
              "#fdca26"
             ],
             [
              1,
              "#f0f921"
             ]
            ],
            "type": "heatmap"
           }
          ],
          "histogram": [
           {
            "marker": {
             "pattern": {
              "fillmode": "overlay",
              "size": 10,
              "solidity": 0.2
             }
            },
            "type": "histogram"
           }
          ],
          "histogram2d": [
           {
            "colorbar": {
             "outlinewidth": 0,
             "ticks": ""
            },
            "colorscale": [
             [
              0,
              "#0d0887"
             ],
             [
              0.1111111111111111,
              "#46039f"
             ],
             [
              0.2222222222222222,
              "#7201a8"
             ],
             [
              0.3333333333333333,
              "#9c179e"
             ],
             [
              0.4444444444444444,
              "#bd3786"
             ],
             [
              0.5555555555555556,
              "#d8576b"
             ],
             [
              0.6666666666666666,
              "#ed7953"
             ],
             [
              0.7777777777777778,
              "#fb9f3a"
             ],
             [
              0.8888888888888888,
              "#fdca26"
             ],
             [
              1,
              "#f0f921"
             ]
            ],
            "type": "histogram2d"
           }
          ],
          "histogram2dcontour": [
           {
            "colorbar": {
             "outlinewidth": 0,
             "ticks": ""
            },
            "colorscale": [
             [
              0,
              "#0d0887"
             ],
             [
              0.1111111111111111,
              "#46039f"
             ],
             [
              0.2222222222222222,
              "#7201a8"
             ],
             [
              0.3333333333333333,
              "#9c179e"
             ],
             [
              0.4444444444444444,
              "#bd3786"
             ],
             [
              0.5555555555555556,
              "#d8576b"
             ],
             [
              0.6666666666666666,
              "#ed7953"
             ],
             [
              0.7777777777777778,
              "#fb9f3a"
             ],
             [
              0.8888888888888888,
              "#fdca26"
             ],
             [
              1,
              "#f0f921"
             ]
            ],
            "type": "histogram2dcontour"
           }
          ],
          "mesh3d": [
           {
            "colorbar": {
             "outlinewidth": 0,
             "ticks": ""
            },
            "type": "mesh3d"
           }
          ],
          "parcoords": [
           {
            "line": {
             "colorbar": {
              "outlinewidth": 0,
              "ticks": ""
             }
            },
            "type": "parcoords"
           }
          ],
          "pie": [
           {
            "automargin": true,
            "type": "pie"
           }
          ],
          "scatter": [
           {
            "marker": {
             "line": {
              "color": "#283442"
             }
            },
            "type": "scatter"
           }
          ],
          "scatter3d": [
           {
            "line": {
             "colorbar": {
              "outlinewidth": 0,
              "ticks": ""
             }
            },
            "marker": {
             "colorbar": {
              "outlinewidth": 0,
              "ticks": ""
             }
            },
            "type": "scatter3d"
           }
          ],
          "scattercarpet": [
           {
            "marker": {
             "colorbar": {
              "outlinewidth": 0,
              "ticks": ""
             }
            },
            "type": "scattercarpet"
           }
          ],
          "scattergeo": [
           {
            "marker": {
             "colorbar": {
              "outlinewidth": 0,
              "ticks": ""
             }
            },
            "type": "scattergeo"
           }
          ],
          "scattergl": [
           {
            "marker": {
             "line": {
              "color": "#283442"
             }
            },
            "type": "scattergl"
           }
          ],
          "scattermap": [
           {
            "marker": {
             "colorbar": {
              "outlinewidth": 0,
              "ticks": ""
             }
            },
            "type": "scattermap"
           }
          ],
          "scattermapbox": [
           {
            "marker": {
             "colorbar": {
              "outlinewidth": 0,
              "ticks": ""
             }
            },
            "type": "scattermapbox"
           }
          ],
          "scatterpolar": [
           {
            "marker": {
             "colorbar": {
              "outlinewidth": 0,
              "ticks": ""
             }
            },
            "type": "scatterpolar"
           }
          ],
          "scatterpolargl": [
           {
            "marker": {
             "colorbar": {
              "outlinewidth": 0,
              "ticks": ""
             }
            },
            "type": "scatterpolargl"
           }
          ],
          "scatterternary": [
           {
            "marker": {
             "colorbar": {
              "outlinewidth": 0,
              "ticks": ""
             }
            },
            "type": "scatterternary"
           }
          ],
          "surface": [
           {
            "colorbar": {
             "outlinewidth": 0,
             "ticks": ""
            },
            "colorscale": [
             [
              0,
              "#0d0887"
             ],
             [
              0.1111111111111111,
              "#46039f"
             ],
             [
              0.2222222222222222,
              "#7201a8"
             ],
             [
              0.3333333333333333,
              "#9c179e"
             ],
             [
              0.4444444444444444,
              "#bd3786"
             ],
             [
              0.5555555555555556,
              "#d8576b"
             ],
             [
              0.6666666666666666,
              "#ed7953"
             ],
             [
              0.7777777777777778,
              "#fb9f3a"
             ],
             [
              0.8888888888888888,
              "#fdca26"
             ],
             [
              1,
              "#f0f921"
             ]
            ],
            "type": "surface"
           }
          ],
          "table": [
           {
            "cells": {
             "fill": {
              "color": "#506784"
             },
             "line": {
              "color": "rgb(17,17,17)"
             }
            },
            "header": {
             "fill": {
              "color": "#2a3f5f"
             },
             "line": {
              "color": "rgb(17,17,17)"
             }
            },
            "type": "table"
           }
          ]
         },
         "layout": {
          "annotationdefaults": {
           "arrowcolor": "#f2f5fa",
           "arrowhead": 0,
           "arrowwidth": 1
          },
          "autotypenumbers": "strict",
          "coloraxis": {
           "colorbar": {
            "outlinewidth": 0,
            "ticks": ""
           }
          },
          "colorscale": {
           "diverging": [
            [
             0,
             "#8e0152"
            ],
            [
             0.1,
             "#c51b7d"
            ],
            [
             0.2,
             "#de77ae"
            ],
            [
             0.3,
             "#f1b6da"
            ],
            [
             0.4,
             "#fde0ef"
            ],
            [
             0.5,
             "#f7f7f7"
            ],
            [
             0.6,
             "#e6f5d0"
            ],
            [
             0.7,
             "#b8e186"
            ],
            [
             0.8,
             "#7fbc41"
            ],
            [
             0.9,
             "#4d9221"
            ],
            [
             1,
             "#276419"
            ]
           ],
           "sequential": [
            [
             0,
             "#0d0887"
            ],
            [
             0.1111111111111111,
             "#46039f"
            ],
            [
             0.2222222222222222,
             "#7201a8"
            ],
            [
             0.3333333333333333,
             "#9c179e"
            ],
            [
             0.4444444444444444,
             "#bd3786"
            ],
            [
             0.5555555555555556,
             "#d8576b"
            ],
            [
             0.6666666666666666,
             "#ed7953"
            ],
            [
             0.7777777777777778,
             "#fb9f3a"
            ],
            [
             0.8888888888888888,
             "#fdca26"
            ],
            [
             1,
             "#f0f921"
            ]
           ],
           "sequentialminus": [
            [
             0,
             "#0d0887"
            ],
            [
             0.1111111111111111,
             "#46039f"
            ],
            [
             0.2222222222222222,
             "#7201a8"
            ],
            [
             0.3333333333333333,
             "#9c179e"
            ],
            [
             0.4444444444444444,
             "#bd3786"
            ],
            [
             0.5555555555555556,
             "#d8576b"
            ],
            [
             0.6666666666666666,
             "#ed7953"
            ],
            [
             0.7777777777777778,
             "#fb9f3a"
            ],
            [
             0.8888888888888888,
             "#fdca26"
            ],
            [
             1,
             "#f0f921"
            ]
           ]
          },
          "colorway": [
           "#636efa",
           "#EF553B",
           "#00cc96",
           "#ab63fa",
           "#FFA15A",
           "#19d3f3",
           "#FF6692",
           "#B6E880",
           "#FF97FF",
           "#FECB52"
          ],
          "font": {
           "color": "#f2f5fa"
          },
          "geo": {
           "bgcolor": "rgb(17,17,17)",
           "lakecolor": "rgb(17,17,17)",
           "landcolor": "rgb(17,17,17)",
           "showlakes": true,
           "showland": true,
           "subunitcolor": "#506784"
          },
          "hoverlabel": {
           "align": "left"
          },
          "hovermode": "closest",
          "mapbox": {
           "style": "dark"
          },
          "paper_bgcolor": "rgb(17,17,17)",
          "plot_bgcolor": "rgb(17,17,17)",
          "polar": {
           "angularaxis": {
            "gridcolor": "#506784",
            "linecolor": "#506784",
            "ticks": ""
           },
           "bgcolor": "rgb(17,17,17)",
           "radialaxis": {
            "gridcolor": "#506784",
            "linecolor": "#506784",
            "ticks": ""
           }
          },
          "scene": {
           "xaxis": {
            "backgroundcolor": "rgb(17,17,17)",
            "gridcolor": "#506784",
            "gridwidth": 2,
            "linecolor": "#506784",
            "showbackground": true,
            "ticks": "",
            "zerolinecolor": "#C8D4E3"
           },
           "yaxis": {
            "backgroundcolor": "rgb(17,17,17)",
            "gridcolor": "#506784",
            "gridwidth": 2,
            "linecolor": "#506784",
            "showbackground": true,
            "ticks": "",
            "zerolinecolor": "#C8D4E3"
           },
           "zaxis": {
            "backgroundcolor": "rgb(17,17,17)",
            "gridcolor": "#506784",
            "gridwidth": 2,
            "linecolor": "#506784",
            "showbackground": true,
            "ticks": "",
            "zerolinecolor": "#C8D4E3"
           }
          },
          "shapedefaults": {
           "line": {
            "color": "#f2f5fa"
           }
          },
          "sliderdefaults": {
           "bgcolor": "#C8D4E3",
           "bordercolor": "rgb(17,17,17)",
           "borderwidth": 1,
           "tickwidth": 0
          },
          "ternary": {
           "aaxis": {
            "gridcolor": "#506784",
            "linecolor": "#506784",
            "ticks": ""
           },
           "baxis": {
            "gridcolor": "#506784",
            "linecolor": "#506784",
            "ticks": ""
           },
           "bgcolor": "rgb(17,17,17)",
           "caxis": {
            "gridcolor": "#506784",
            "linecolor": "#506784",
            "ticks": ""
           }
          },
          "title": {
           "x": 0.05
          },
          "updatemenudefaults": {
           "bgcolor": "#506784",
           "borderwidth": 0
          },
          "xaxis": {
           "automargin": true,
           "gridcolor": "#283442",
           "linecolor": "#506784",
           "ticks": "",
           "title": {
            "standoff": 15
           },
           "zerolinecolor": "#283442",
           "zerolinewidth": 2
          },
          "yaxis": {
           "automargin": true,
           "gridcolor": "#283442",
           "linecolor": "#506784",
           "ticks": "",
           "title": {
            "standoff": 15
           },
           "zerolinecolor": "#283442",
           "zerolinewidth": 2
          }
         }
        },
        "title": {
         "text": "Economy (GDP per Capita) vs Health (Life Expectancy)"
        }
       }
      }
     },
     "metadata": {},
     "output_type": "display_data"
    }
   ],
   "source": [
    "fig3 = px.choropleth(df, locations = 'Country', locationmode = 'country names', color = 'Economy (GDP per Capita)', hover_name = 'Health (Life Expectancy)', title = 'Economy (GDP per Capita) vs Health (Life Expectancy)')\n",
    "fig3.show()"
   ]
  },
  {
   "cell_type": "markdown",
   "metadata": {},
   "source": [
    "DASHBOARD using Dash"
   ]
  },
  {
   "cell_type": "code",
   "execution_count": 17,
   "metadata": {},
   "outputs": [
    {
     "data": {
      "text/html": [
       "\n",
       "        <iframe\n",
       "            width=\"100%\"\n",
       "            height=\"650\"\n",
       "            src=\"http://127.0.0.1:8050/\"\n",
       "            frameborder=\"0\"\n",
       "            allowfullscreen\n",
       "            \n",
       "        ></iframe>\n",
       "        "
      ],
      "text/plain": [
       "<IPython.lib.display.IFrame at 0x21d885f5950>"
      ]
     },
     "metadata": {},
     "output_type": "display_data"
    }
   ],
   "source": [
    "import dash\n",
    "from dash import dcc\n",
    "from dash import html\n",
    "\n",
    "app = dash.Dash(__name__)\n",
    "\n",
    "app.layout = html.Div(children=[\n",
    "    html.H1(children=\"My Dashboard\", style={'textAlign': 'center', 'color': '#7FDBFF'}),\n",
    "\n",
    "    html.Div(children='''\n",
    "        Economy (GDP per Capita) vs Happiness Score\n",
    "    ''', style={'textAlign': 'center', 'color': '#7FDBFF'}),\n",
    "\n",
    "    dcc.Graph(\n",
    "        id='graph1',\n",
    "        figure=fig\n",
    "    ),\n",
    "\n",
    "    html.Div(children='''\n",
    "        Region Distribution\n",
    "    ''', style={'textAlign': 'center', 'color': '#7FDBFF'}),\n",
    "\n",
    "    dcc.Graph(\n",
    "        id='graph2',\n",
    "        figure=fig1\n",
    "    ),\n",
    "\n",
    "    html.Div(children='''\n",
    "        Economy (GDP per Capita) vs Health (Life Expectancy)\n",
    "    ''', style={'textAlign': 'center', 'color': '#7FDBFF'}),\n",
    "\n",
    "    dcc.Graph(\n",
    "        id='graph3',\n",
    "        figure=fig2\n",
    "    ),\n",
    "\n",
    "        html.Div(children='''\n",
    "        Map\n",
    "    ''', style={'textAlign': 'center', 'color': '#7FDBFF'}),\n",
    "\n",
    "    dcc.Graph(\n",
    "        id='graph4',\n",
    "        figure=fig3\n",
    "    )\n",
    "])\n",
    "\n",
    "if __name__ == '__main__':\n",
    "    app.run_server(debug=True, mode='inline')"
   ]
  }
 ],
 "metadata": {
  "kernelspec": {
   "display_name": "Python 3",
   "language": "python",
   "name": "python3"
  },
  "language_info": {
   "codemirror_mode": {
    "name": "ipython",
    "version": 3
   },
   "file_extension": ".py",
   "mimetype": "text/x-python",
   "name": "python",
   "nbconvert_exporter": "python",
   "pygments_lexer": "ipython3",
   "version": "3.13.2"
  }
 },
 "nbformat": 4,
 "nbformat_minor": 2
}
